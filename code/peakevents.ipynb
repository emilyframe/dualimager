{
 "cells": [
  {
   "cell_type": "code",
   "execution_count": null,
   "metadata": {},
   "outputs": [],
   "source": [
    "import numpy as np\n",
    "import tables\n",
    "import matplotlib.pyplot as plt\n",
    "from matplotlib.font_manager import FontProperties\n",
    "import sys\n",
    "sys.path.append('/Users/eframe/repos/dmi/src')\n",
    "import calibrate as calib\n",
    "import eventAnalysis as ea\n",
    "# import compton\n",
    "import sys\n",
    "import pandas as pd"
   ]
  },
  {
   "cell_type": "code",
   "execution_count": null,
   "metadata": {},
   "outputs": [],
   "source": [
    "# file = '/Users/eframe/dmi/data/effData/co57_m2_v2.h5'\n",
    "file = '/Users/eframe/Downloads/hotsph_0deg_comp.h5'\n",
    "f = tables.open_file( file, 'r' )\n",
    "time = f.root.EventData.read()['timestamp']\n",
    "duration = ( time[-1] * 10 ** -8 - time[0] * 10 ** -8 ) # seconds\n",
    "edata = f.root.EventData.read().view( np.recarray )\n",
    "edata.rid = np.arange( len( edata ) )\n",
    "edata = np.sort( edata, order='timestamp' )\n",
    "i1, i2 = ea.lump_edata( edata, twindow=25 )"
   ]
  },
  {
   "cell_type": "code",
   "execution_count": null,
   "metadata": {},
   "outputs": [],
   "source": [
    "# Getting Energy of Time-Correlated Events\n",
    "energy = []\n",
    "for i in np.arange( len(i1) ):\n",
    "    event =  edata[ i1[i]:i2[i] ]\n",
    "    \n",
    "    ev1 = ea.inge1(event)\n",
    "    ac1 = ea.onAC(ev1)\n",
    "    dc1 = ea.onDC(ev1)\n",
    "    \n",
    "    ev2 = ea.inge2(event)\n",
    "    ac2 = ea.onAC(ev2)\n",
    "    dc2 = ea.onDC(ev2)\n",
    "    \n",
    "    E1_max = np.max( ( np.sum( ac1['ADC_value'] ), np.sum( dc1['ADC_value'] ) ) )\n",
    "    E1_min = np.min( ( np.sum( ac1['ADC_value'] ), np.sum( dc1['ADC_value'] ) ) )\n",
    "    \n",
    "    E2_max = np.max( ( np.sum( ac2['ADC_value'] ), np.sum( dc2['ADC_value'] ) ) )\n",
    "    E2_min = np.min( ( np.sum( ac2['ADC_value'] ), np.sum( dc2['ADC_value'] ) ) )\n",
    "    \n",
    "    E = E1_max + E2_max\n",
    "    energy.append( E )\n",
    "energy = np.array(energy)"
   ]
  },
  {
   "cell_type": "code",
   "execution_count": null,
   "metadata": {},
   "outputs": [],
   "source": [
    "# np.savetxt( '/Users/eframe/dmi/data/effData/co57.txt', energy )\n",
    "np.savetxt( '/Users/eframe/Downloads/rawdata_ac225.txt', energy )"
   ]
  },
  {
   "cell_type": "code",
   "execution_count": null,
   "metadata": {},
   "outputs": [],
   "source": [
    "evalues = np.loadtxt( '/Users/eframe/Downloads/rawdata_ac225.txt' )\n",
    "len(evalues) / duration - 183"
   ]
  },
  {
   "cell_type": "code",
   "execution_count": 2,
   "metadata": {},
   "outputs": [
    {
     "data": {
      "image/png": "[encoded data removed]",
      "text/plain": [
       "<Figure size 432x288 with 1 Axes>"
      ]
     },
     "metadata": {
      "needs_background": "light"
     },
     "output_type": "display_data"
    }
   ],
   "source": [
    "# Plotting Spectrum\n",
    "%matplotlib inline\n",
    "import numpy as np\n",
    "import matplotlib.pyplot as plt\n",
    "energies = np.loadtxt( '/Users/eframe/Desktop/rawdata_ac225.txt' )\n",
    "hist, bins = np.histogram( energies, bins = 1500, range = ( 0,1500 ) )\n",
    "\n",
    "\n",
    "fig, ax = plt.subplots()\n",
    "ax.semilogy( bins[:-1], hist, 'k' )\n",
    "ax.set_xlabel('Energy [keV]')\n",
    "ax.set_ylabel('Counts')\n",
    "ax.set_xlim(25,1500)\n",
    "plt.show()"
   ]
  },
  {
   "cell_type": "code",
   "execution_count": null,
   "metadata": {},
   "outputs": [],
   "source": [
    "## Getting Photopeak Events\n",
    "E, sig = 122, 3\n",
    "inside = ( evalues > E - sig ) & ( evalues < E + sig )\n",
    "left = ( evalues >= E - 2 * sig ) & ( evalues < E - sig )\n",
    "right = ( evalues >= E + sig ) & ( evalues < E + 2 * sig )\n",
    "peakcount = len( evalues[inside] )  - len(evalues[right]) - len(evalues[left])"
   ]
  },
  {
   "cell_type": "code",
   "execution_count": null,
   "metadata": {},
   "outputs": [],
   "source": [
    "peakcount / duration"
   ]
  },
  {
   "cell_type": "code",
   "execution_count": null,
   "metadata": {},
   "outputs": [],
   "source": [
    "# # Getting Peak Efficiency from Geant4\n",
    "# file = '/Users/eframe/geant4py/output/co57_x0y0z205.h5'\n",
    "# sim_particles = 100000\n",
    "# E, sig = 122, 2\n",
    "# src = tables.open_file( file )\n",
    "# data = pd.DataFrame( src.root.raw.data[:] )\n",
    "# src.close()\n",
    "\n",
    "# energy = data.groupby( ['eventID'] )['E'].sum().values\n",
    "# mask = ( energy >= E - sig ) & ( energy <= E + sig )\n",
    "# peak_eff = len( energy[mask] ) / sim_particles"
   ]
  },
  {
   "cell_type": "code",
   "execution_count": null,
   "metadata": {},
   "outputs": [],
   "source": [
    "# # Calculating Effective Activity\n",
    "# branch = 0.86 # 0.86 Co57, 0.85 Cs137, 0.837 U238, 0.572 U235, 0.11 Fr221, 0.26 Bi213\n",
    "# act = peakcount / ( peak_eff * branch )\n",
    "# act"
   ]
  },
  {
   "cell_type": "code",
   "execution_count": null,
   "metadata": {},
   "outputs": [],
   "source": []
  }
 ],
 "metadata": {
  "kernelspec": {
   "display_name": "Python 3",
   "language": "python",
   "name": "python3"
  },
  "language_info": {
   "codemirror_mode": {
    "name": "ipython",
    "version": 3
   },
   "file_extension": ".py",
   "mimetype": "text/x-python",
   "name": "python",
   "nbconvert_exporter": "python",
   "pygments_lexer": "ipython3",
   "version": "3.7.3"
  }
 },
 "nbformat": 4,
 "nbformat_minor": 4
}
