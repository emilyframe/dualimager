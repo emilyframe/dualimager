{
 "cells": [
  {
   "cell_type": "code",
   "execution_count": 3,
   "metadata": {},
   "outputs": [],
   "source": [
    "import numpy as np\n",
    "import tables\n",
    "import matplotlib.pyplot as plt\n",
    "import sys\n",
    "sys.path.append('/Users/eframe/dmi/src')\n",
    "import calibrate as calib\n",
    "import eventAnalysis as ea\n",
    "import compton\n",
    "import sys"
   ]
  },
  {
   "cell_type": "code",
   "execution_count": 5,
   "metadata": {},
   "outputs": [
    {
     "name": "stdout",
     "output_type": "stream",
     "text": [
      "1483.3482873620799 [      400472      3804641     10250518 ... 180035007200 180035207695\n",
      " 180040989911]\n"
     ]
    }
   ],
   "source": [
    "# Getting Count Rate \n",
    "backfile = '/Users/eframe/Downloads/phantom0deg.h5'\n",
    "f = tables.open_file( backfile, 'r' )\n",
    "time = f.root.EventData.read()['timestamp']\n",
    "duration = ( time[-1] * 10 ** -8 - time[0] * 10 ** -8 ) # seconds\n",
    "events = f.root.EventData.read()['timestamp']\n",
    "edata = f.root.EventData.read().view(np.recarray)\n",
    "edata.rid = np.arange( len( edata ) )\n",
    "edata = np.sort(edata, order='timestamp')\n",
    "i1, i2 = ea.lump_edata(edata, twindow=25)\n",
    "baseline = len(i1) / duration\n",
    "print(baseline, time)"
   ]
  },
  {
   "cell_type": "code",
   "execution_count": 6,
   "metadata": {},
   "outputs": [
    {
     "name": "stdout",
     "output_type": "stream",
     "text": [
      "541.4042580918143 201.897707637947\n"
     ]
    },
    {
     "data": {
      "text/plain": [
       "734"
      ]
     },
     "execution_count": 6,
     "metadata": {},
     "output_type": "execute_result"
    }
   ],
   "source": [
    "mouseA_CI = 724.4042580918143 - 183\n",
    "mouseB_CI = 384.897707637947 - 183\n",
    "print(mouseA_CI, mouseB_CI)\n",
    "917-183"
   ]
  },
  {
   "cell_type": "code",
   "execution_count": 10,
   "metadata": {},
   "outputs": [
    {
     "name": "stdout",
     "output_type": "stream",
     "text": [
      "7.240928324953128\n"
     ]
    }
   ],
   "source": [
    "# Activity Calculation\n",
    "t = 5100 # days\n",
    "A0 = 10 # microcuries\n",
    "t12 = 30 * 365 # day\n",
    "lamb = np.log( 2 ) / ( t12 )\n",
    "A = A0 * np.exp( -lamb * t )\n",
    "print(A)"
   ]
  },
  {
   "cell_type": "code",
   "execution_count": 9,
   "metadata": {},
   "outputs": [
    {
     "data": {
      "text/plain": [
       "0.5938192671348166"
      ]
     },
     "execution_count": 9,
     "metadata": {},
     "output_type": "execute_result"
    }
   ],
   "source": [
    "# Accounting for shielding\n",
    "muW = 9.776E-02 # cm2/g\n",
    "tW = 20 / 10 # cm\n",
    "rhoW = 11 # g/cm3 # Ecomass\n",
    "\n",
    "muPb = 3.366E+00 # cm2/g\n",
    "tPb = 1 / 10 # cm\n",
    "rhoPb = 11.29 # g/cm3\n",
    "\n",
    "muAl = 1.520E-01 # cm2/g\n",
    "tAl = 1 / 10 # cm\n",
    "rhoAl = 2.7 # g/cm3\n",
    "\n",
    "muPb_1Mev = 7.102E-02\n",
    "tPb4 = 6.5 / 10 # cm\n",
    "rhoPb = 11.29 # g/cm3\n",
    "\n",
    "X1 = muW * rhoW * tW \n",
    "X2 = muPb * rhoPb * tPb\n",
    "X3 = muAl * rhoAl * tAl\n",
    "X4 = muPb_1Mev * rhoPb * tPb4\n",
    "X = X1 + X2\n",
    "\n",
    "np.exp( - X4 )"
   ]
  },
  {
   "cell_type": "code",
   "execution_count": 16,
   "metadata": {},
   "outputs": [],
   "source": [
    "# Loading Dead Time Files for Cs-137 Rigid Line Source\n",
    "E_cs, sigma_cs = 662, 2\n",
    "branch_cs = 0.86\n",
    "activity_cs = 7.21 # microcuries\n",
    "inputs_cs = np.array( [ '/Users/eframe/dmi/data/deadtime/cs1.h5',\n",
    "                   '/Users/eframe/dmi/data/deadtime/cs0.9.h5',\n",
    "                   '/Users/eframe/dmi/data/deadtime/cs0.8.h5',\n",
    "                   '/Users/eframe/dmi/data/deadtime/cs0.7.h5',\n",
    "                   '/Users/eframe/dmi/data/deadtime/cs0.6.h5',\n",
    "                   '/Users/eframe/dmi/data/deadtime/cs0.5.h5',\n",
    "                   '/Users/eframe/dmi/data/deadtime/cs0.4.h5',\n",
    "                   '/Users/eframe/dmi/data/deadtime/cs0.3.h5',\n",
    "                   '/Users/eframe/dmi/data/deadtime/cs0.2.h5',\n",
    "                   '/Users/eframe/dmi/data/deadtime/cs0.12.h5',\n",
    "                   '/Users/eframe/dmi/data/deadtime/cs0.11.h5'] )\n",
    "R_cs = np.array( [ 1000, 900, 800, 700, 600, 500, 400, 300, 200, 120, 110 ] ) + 16.5 "
   ]
  },
  {
   "cell_type": "code",
   "execution_count": 17,
   "metadata": {},
   "outputs": [],
   "source": [
    "# Loading Dead Time Files for Co-57 Flexible Source\n",
    "E_co, sigma_co = 122, 2\n",
    "branch_co = 0.856\n",
    "activity_co = 31 # microcuries\n",
    "inputs_co = np.array( [ '/Users/eframe/dmi/data/deadtime/co1.h5',\n",
    "                   '/Users/eframe/dmi/data/deadtime/co0.9.h5',\n",
    "                   '/Users/eframe/dmi/data/deadtime/co0.8.h5',\n",
    "                   '/Users/eframe/dmi/data/deadtime/co0.7.h5',\n",
    "                   '/Users/eframe/dmi/data/deadtime/co0.6.h5',\n",
    "                   '/Users/eframe/dmi/data/deadtime/co0.5.h5',\n",
    "                   '/Users/eframe/dmi/data/deadtime/co0.4.h5',\n",
    "                   '/Users/eframe/dmi/data/deadtime/co0.3.h5'] )\n",
    "R_co = np.array( [ 1000, 910, 800, 700, 600, 500, 400, 290 ] ) + 16.5 "
   ]
  },
  {
   "cell_type": "code",
   "execution_count": 3,
   "metadata": {},
   "outputs": [
    {
     "name": "stdout",
     "output_type": "stream",
     "text": [
      "183.16037691342981\n"
     ]
    }
   ],
   "source": [
    "# Getting Background Baseline\n",
    "backfile = '/Users/eframe/Downloads/background.h5'\n",
    "f = tables.open_file( backfile, 'r' )\n",
    "time = f.root.EventData.read()['timestamp']\n",
    "duration = ( time[-1] * 10 ** -8 - time[0] * 10 ** -8 ) # seconds\n",
    "events = f.root.EventData.read()['timestamp']\n",
    "edata = f.root.EventData.read().view(np.recarray)\n",
    "edata.rid = np.arange( len( edata ) )\n",
    "edata = np.sort(edata, order='timestamp')\n",
    "i1, i2 = ea.lump_edata(edata, twindow=25)\n",
    "baseline = len(i1) / duration\n",
    "print(baseline)"
   ]
  },
  {
   "cell_type": "code",
   "execution_count": 19,
   "metadata": {},
   "outputs": [
    {
     "name": "stdout",
     "output_type": "stream",
     "text": [
      "118.56413390208978 97.24957167864878 /Users/eframe/dmi/data/deadtime/cs1.h5\n",
      "145.8190726120281 115.66342566381522 /Users/eframe/dmi/data/deadtime/cs0.9.h5\n",
      "183.6722271051073 140.91153560676113 /Users/eframe/dmi/data/deadtime/cs0.8.h5\n",
      "238.42123779293317 175.1818612938736 /Users/eframe/dmi/data/deadtime/cs0.7.h5\n",
      "321.83923683684515 226.6549526495489 /Users/eframe/dmi/data/deadtime/cs0.6.h5\n",
      "458.05716527285665 312.80530584680446 /Users/eframe/dmi/data/deadtime/cs0.5.h5\n",
      "703.1191460752176 453.96612581131126 /Users/eframe/dmi/data/deadtime/cs0.4.h5\n",
      "1212.9406310400198 715.5787627359759 /Users/eframe/dmi/data/deadtime/cs0.3.h5\n",
      "2565.685292134947 1403.0278516680085 /Users/eframe/dmi/data/deadtime/cs0.2.h5\n",
      "6271.53115362077 3050.4518154549173 /Users/eframe/dmi/data/deadtime/cs0.12.h5\n",
      "7246.273269507209 3536.4987494624097 /Users/eframe/dmi/data/deadtime/cs0.11.h5\n"
     ]
    }
   ],
   "source": [
    "# Dead Time Calculations for Cs-137 Rigid Line Source\n",
    "E, sigma = 662, 2\n",
    "cps_cs, cps_act_cs, invR2_cs = [0], [0], [0]\n",
    "for i in np.arange( len( inputs_cs ) ):\n",
    "    f = tables.open_file( inputs_cs[ i ], 'r' )\n",
    "    time = f.root.EventData.read()['timestamp']\n",
    "    duration = ( time[-1] * 10 ** -8 - time[0] * 10 ** -8 ) # seconds\n",
    "    events = f.root.EventData.read()['timestamp']\n",
    "    \n",
    "    # Total Photons Emitted\n",
    "    photons = activity_cs * 37000 * duration\n",
    "    egeo = ( 5776 ) / ( 4 * np.pi * R_cs[i] ** 2 + 2 * 5776 ) \n",
    "    cps_actual = photons * egeo / duration\n",
    "    cps_act_cs.append(cps_actual)\n",
    "    \n",
    "    # Total Counts Detected\n",
    "    edata = f.root.EventData.read().view(np.recarray)\n",
    "    edata.rid = np.arange( len( edata ) )\n",
    "    edata = np.sort(edata, order='timestamp')\n",
    "    i1, i2 = ea.lump_edata(edata, twindow=25)\n",
    "    counts = len(i1) \n",
    "    cps_cs.append( counts / duration - baseline )\n",
    "\n",
    "    invR2_cs.append( 1 / ( R_cs[i] ** 2 * 1 / 1000 ** 2 ) ) \n",
    "    print( cps_actual, counts / duration - baseline, inputs_cs[i] )"
   ]
  },
  {
   "cell_type": "code",
   "execution_count": 20,
   "metadata": {},
   "outputs": [
    {
     "name": "stdout",
     "output_type": "stream",
     "text": [
      "161437\n",
      "509.776442574866 712.3507029942599 /Users/eframe/dmi/data/deadtime/co1.h5\n",
      "187313\n",
      "613.5148030251823 856.0707228791483 /Users/eframe/dmi/data/deadtime/co0.9.h5\n",
      "226885\n",
      "789.7141526017098 1078.9031314050371 /Users/eframe/dmi/data/deadtime/co0.8.h5\n",
      "279863\n",
      "1025.1121181110857 1368.626001191652 /Users/eframe/dmi/data/deadtime/co0.7.h5\n",
      "353340\n",
      "1383.7748047076557 1775.986743027559 /Users/eframe/dmi/data/deadtime/co0.6.h5\n",
      "469081\n",
      "1969.4552182328098 2430.845302943909 /Users/eframe/dmi/data/deadtime/co0.5.h5\n",
      "671810\n",
      "3023.119768145873 3554.274162298359 /Users/eframe/dmi/data/deadtime/co0.4.h5\n",
      "1198214\n",
      "5557.642643948091 6472.8826829260015 /Users/eframe/dmi/data/deadtime/co0.3.h5\n"
     ]
    }
   ],
   "source": [
    "# Dead Time Calculations for Co-57 Line Source\n",
    "E, sigma = 122, 2\n",
    "cps_co, cps_act_co, invR2_co = [0], [0], [0]\n",
    "for i in np.arange( len( inputs_co ) ):\n",
    "    f = tables.open_file( inputs_co[ i ], 'r' )\n",
    "    time = f.root.EventData.read()['timestamp']\n",
    "    duration = ( time[-1] * 10 ** -8 - time[0] * 10 ** -8 ) # seconds\n",
    "    events = f.root.EventData.read()['timestamp']\n",
    "    \n",
    "    # Total Photons Emitted\n",
    "    photons = activity_co * 37000 * duration \n",
    "    egeo = ( 5776 ) / ( 4 * np.pi * ( R_co[i] ) ** 2 + 2 * 5776 ) \n",
    "    cps_actual = photons * egeo / duration\n",
    "    cps_act_co.append(cps_actual)\n",
    "    \n",
    "    # Total Counts Detected\n",
    "    edata = f.root.EventData.read().view(np.recarray)\n",
    "    edata.rid = np.arange( len( edata ) )\n",
    "    edata = np.sort(edata, order='timestamp')\n",
    "    i1, i2 = ea.lump_edata(edata, twindow=25)\n",
    "    counts = len(i1)\n",
    "    print(counts)\n",
    "     \n",
    "    cps_co.append( counts / duration - baseline)\n",
    "    invR2_co.append( 1 / ( R_co[i] ** 2 * 1 / 1000 ** 2 ) ) \n",
    "    print(cps_actual, counts / duration - baseline, inputs_co[i])"
   ]
  },
  {
   "cell_type": "code",
   "execution_count": 21,
   "metadata": {},
   "outputs": [
    {
     "data": {
      "image/png": "[encoded data removed]",
      "text/plain": [
       "<Figure size 432x288 with 1 Axes>"
      ]
     },
     "metadata": {
      "needs_background": "light"
     },
     "output_type": "display_data"
    }
   ],
   "source": [
    "# Plotting CPS VS 1/R2\n",
    "%matplotlib inline\n",
    "fig, ax = plt.subplots()\n",
    "ax.set_xlabel( '1/R2 [m-2]', fontsize=20 )\n",
    "ax.set_ylabel( 'CPS DETECTED', fontsize=20 )\n",
    "ax.tick_params( labelsize=20 )\n",
    "plt.plot( invR2_cs, cps_cs, '.-b', linewidth=1.5, marker = 'o', markersize=8, markerfacecolor='blue', label='Cs137')\n",
    "plt.plot( invR2_co, cps_co, '.-r', linewidth=1.5, marker = 'o', markersize=8, markerfacecolor='red', label='Co57')\n",
    "plt.legend(fontsize=15)\n",
    "plt.show()"
   ]
  },
  {
   "cell_type": "code",
   "execution_count": 22,
   "metadata": {},
   "outputs": [],
   "source": [
    "m_co = np.polyfit( invR2_co[:2], cps_co[:2], 1 )[0]\n",
    "m_cs = np.polyfit( invR2_cs[:2], cps_cs[:2], 1 )[0]\n",
    "\n",
    "cps_ideal_co = np.ceil( np.array( invR2_co ) * m_co )\n",
    "cps_ideal_cs = np.ceil( np.array( invR2_cs ) * m_cs )\n",
    "dead_time_co = np.divide( ( cps_ideal_co - cps_co ),  cps_ideal_co, out=np.zeros_like( cps_ideal_co ), where=cps_ideal_co!=0 ) \n",
    "dead_time_cs = np.divide( ( cps_ideal_cs - cps_cs ),  cps_ideal_cs, out=np.zeros_like( cps_ideal_cs ), where=cps_ideal_cs!=0 )"
   ]
  },
  {
   "cell_type": "code",
   "execution_count": 23,
   "metadata": {},
   "outputs": [
    {
     "data": {
      "image/png": "[encoded data removed]",
      "text/plain": [
       "<Figure size 432x288 with 1 Axes>"
      ]
     },
     "metadata": {
      "needs_background": "light"
     },
     "output_type": "display_data"
    }
   ],
   "source": [
    "# Plotting CPS VS Dead Time\n",
    "%matplotlib inline\n",
    "fig, ax = plt.subplots()\n",
    "ax.set_xlabel( 'CPS DETECTED', fontsize=20 )\n",
    "ax.set_ylabel( 'Dead Time', fontsize=20 )\n",
    "ax.tick_params( labelsize=20 )\n",
    "plt.plot( cps_cs, dead_time_cs, '.-b', linewidth=1.5, marker = 'o', markersize=8, markerfacecolor='blue', label='Cs137')\n",
    "plt.plot( cps_co, dead_time_co, '.-r', linewidth=1.5, marker = 'o', markersize=8, markerfacecolor='red', label='Co57')\n",
    "plt.legend(fontsize=15)\n",
    "plt.show()"
   ]
  },
  {
   "cell_type": "code",
   "execution_count": null,
   "metadata": {},
   "outputs": [],
   "source": []
  }
 ],
 "metadata": {
  "kernelspec": {
   "display_name": "Python 3",
   "language": "python",
   "name": "python3"
  },
  "language_info": {
   "codemirror_mode": {
    "name": "ipython",
    "version": 3
   },
   "file_extension": ".py",
   "mimetype": "text/x-python",
   "name": "python",
   "nbconvert_exporter": "python",
   "pygments_lexer": "ipython3",
   "version": "3.7.3"
  }
 },
 "nbformat": 4,
 "nbformat_minor": 4
}
