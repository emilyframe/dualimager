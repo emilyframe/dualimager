{
 "cells": [
  {
   "cell_type": "code",
   "execution_count": 1,
   "metadata": {},
   "outputs": [],
   "source": [
    "import numpy as np\n",
    "import h5py\n",
    "import tables\n",
    "import matplotlib.pyplot as plt\n",
    "from collections import OrderedDict\n",
    "import tables\n",
    "import scipy.stats\n",
    "import pandas as pd\n",
    "from matplotlib.font_manager import FontProperties"
   ]
  },
  {
   "cell_type": "code",
   "execution_count": 2,
   "metadata": {},
   "outputs": [],
   "source": [
    "linestyles = OrderedDict(\n",
    "    [('solid',               (0, ())),\n",
    "     ('loosely dotted',      (0, (1, 10))),\n",
    "     ('dotted',              (0, (1, 5))),\n",
    "     ('densely dotted',      (0, (1, 1))),\n",
    "\n",
    "     ('loosely dashed',      (0, (5, 10))),\n",
    "     ('dashed',              (0, (5, 5))),\n",
    "     ('densely dashed',      (0, (5, 1))),\n",
    "\n",
    "     ('loosely dashdotted',  (0, (3, 10, 1, 10))),\n",
    "     ('dashdotted',          (0, (3, 5, 1, 5))),\n",
    "     ('densely dashdotted',  (0, (3, 1, 1, 1))),\n",
    "\n",
    "     ('loosely dashdotdotted', (0, (3, 10, 1, 10, 1, 10))),\n",
    "     ('dashdotdotted',         (0, (3, 5, 1, 5, 1, 5))),\n",
    "     ('densely dashdotdotted', (0, (3, 1, 1, 1, 1, 1)))])"
   ]
  },
  {
   "cell_type": "code",
   "execution_count": 3,
   "metadata": {},
   "outputs": [],
   "source": [
    "# Initializing Source Voxels\n",
    "sourceX, sourceY, sourceZ = np.mgrid[ -299:301:2, -1:1:2, -1:1:2 ]\n",
    "xpos = sourceX[:, 0, 0]"
   ]
  },
  {
   "cell_type": "code",
   "execution_count": 4,
   "metadata": {},
   "outputs": [],
   "source": [
    "solid = ( 74 * 74 ) / ( 4 * np.pi * 40 ** 2 + ( 2 * 74 * 74 ) )"
   ]
  },
  {
   "cell_type": "code",
   "execution_count": 15,
   "metadata": {},
   "outputs": [],
   "source": [
    "# Loading System Response\n",
    "a = 180\n",
    "b = 90\n",
    "m = 15\n",
    "\n",
    "div = '/Users/eframe/Downloads/div_b' + str(b) + '_m' + str(m) + '_v20.h5'\n",
    "con = '/Users/eframe/Downloads/con_b' + str(b) + '_m' + str(m) + '_v20.h5'\n",
    "par = '/Users/eframe/Downloads/par_b' + str(b) + '_m' + str(m) + '_v20.h5'\n",
    "\n",
    "mat_div = tables.open_file( div, 'r').root.matrix.read()\n",
    "mat_con = tables.open_file( con, 'r').root.matrix.read()\n",
    "mat_par = tables.open_file( par, 'r').root.matrix.read()\n",
    "\n",
    "sens_div = mat_div.sum( axis = 1 ) * 1000 \n",
    "sens_con = mat_con.sum( axis = 1 ) * 1000 \n",
    "sens_par = mat_par.sum( axis = 1 ) * 1000 \n",
    "\n",
    "mask_div = sens_div > 0\n",
    "mask_con = sens_con > 0\n",
    "mask_par = sens_par > 0\n",
    "\n",
    "sens_div_nozero = sens_div[mask_div]\n",
    "sens_con_nozero = sens_con[mask_con]\n",
    "sens_par_nozero = sens_par[mask_par]"
   ]
  },
  {
   "cell_type": "code",
   "execution_count": 16,
   "metadata": {},
   "outputs": [],
   "source": [
    "# fully-coded field of view\n",
    "m = 1 + b / a\n",
    "\n",
    "ld = 74\n",
    "lm = 128 \n",
    "\n",
    "fcfv = ( m * lm - ld ) / ( m - 1 )\n",
    "lim = fcfv / 2\n",
    "\n",
    "x =  ( ld + ( lm - ld ) / 2 ) * ( b + a ) / b - ld\n",
    "val = 2 * x + ld\n",
    "pcfv = ( val - fcfv ) / 2 + 2\n",
    "\n",
    "mask = ( xpos > -lim-pcfv-1 ) & ( xpos < lim + pcfv )"
   ]
  },
  {
   "cell_type": "code",
   "execution_count": 17,
   "metadata": {},
   "outputs": [],
   "source": [
    "%matplotlib qt\n",
    "font = FontProperties()\n",
    "font.set_name('Times New Roman')\n",
    "fig, ax = plt.subplots()\n",
    "ax.plot( xpos[mask], sens_div[mask], linestyle = linestyles['solid'], linewidth=7, label='Diverging')\n",
    "ax.plot( xpos[mask], sens_con[mask], linestyle = linestyles['densely dashed'], linewidth=7, label='Converging')\n",
    "ax.plot( xpos[mask], sens_par[mask], linestyle = linestyles['densely dotted'], linewidth=7, label='Parallel')\n",
    "ax.minorticks_on()\n",
    "ax.set_xlabel('Distance from FoV Center [mm]', fontsize=50, fontproperties=font)\n",
    "ax.set_ylabel(r'Sensitivity $\\quad \\left[\\frac{cps}{kBq\\cdot122~keV}\\right]$', fontsize=50, fontproperties=font)\n",
    "ax.axvspan(-lim, lim,  alpha=0.25, label=\"FCFV\")\n",
    "ax.axvspan(-lim-pcfv-1, -lim, color='r', alpha=0.15, label=\"PCFV\")\n",
    "ax.axvspan(lim, lim+pcfv, color='r', alpha=0.15)\n",
    "ax.tick_params(which='major', length=10, width=2, direction='in', labelsize=50)\n",
    "ax.tick_params(which='minor', length=5, width=2, direction='in', labelsize=50)\n",
    "# legend =ax.legend(prop={\"family\":\"Times New Roman\", 'size': 40}, \n",
    "#                   ncol=2, loc='center', bbox_to_anchor=(0.8, 0.95), facecolor='white', framealpha=1)\n",
    "legend =ax.legend(prop={\"family\":\"Times New Roman\", 'size': 40}, edgecolor='white',facecolor='white', framealpha=1)\n",
    "ax.yaxis.get_offset_text().set_fontsize(40)\n",
    "ax.yaxis.get_offset_text().set_family(\"Times New Roman\")\n",
    "ax.set_ylim(0.00001)\n",
    "# ax.grid(which='both')\n",
    "ax.set_xlim(-300, 300)\n",
    "for l in ax.xaxis.get_ticklabels():\n",
    "    l.set_family(\"Times New Roman\")\n",
    "    l.set_size(50)\n",
    "for l in ax.yaxis.get_ticklabels():\n",
    "    l.set_family(\"Times New Roman\")\n",
    "    l.set_size(50)    \n",
    "plt.show()"
   ]
  },
  {
   "cell_type": "code",
   "execution_count": null,
   "metadata": {},
   "outputs": [],
   "source": [
    "# Calculating contrast\n",
    "cont_div = mat_div.reshape( (sourceX.shape[0], sourceX.shape[1], 5476) )[:,0,:]\n",
    "cont_con = mat_con.reshape( (sourceX.shape[0], sourceX.shape[1], 5476) )[:,0,:]\n",
    "cont_par = mat_par.reshape( (sourceX.shape[0], sourceX.shape[1], 5476) )[:,0,:]"
   ]
  },
  {
   "cell_type": "code",
   "execution_count": null,
   "metadata": {},
   "outputs": [],
   "source": [
    "%matplotlib inline\n",
    "grid = cont_con[150,:].reshape((74,74)) \n",
    "fig, ax = plt.subplots()\n",
    "im = ax.pcolormesh(grid.T)\n",
    "ax.set_xlabel('x (mm)', fontsize=20)\n",
    "ax.set_ylabel('y (mm)', fontsize=20)\n",
    "ax.tick_params(labelsize=20)\n",
    "cbar = plt.colorbar(im)\n",
    "cbar.set_label(label='counts / pixel', rotation=270, fontsize=20, labelpad=20)\n",
    "cbar.ax.tick_params(labelsize=20)\n",
    "plt.show()"
   ]
  },
  {
   "cell_type": "code",
   "execution_count": null,
   "metadata": {},
   "outputs": [],
   "source": [
    "%matplotlib inline\n",
    "grid = cont_div[150,:].reshape((74,74)) \n",
    "fig, ax = plt.subplots()\n",
    "im = ax.pcolormesh(grid.T)\n",
    "ax.set_xlabel('x (mm)', fontsize=20)\n",
    "ax.set_ylabel('y (mm)', fontsize=20)\n",
    "ax.tick_params(labelsize=20)\n",
    "cbar = plt.colorbar(im)\n",
    "cbar.set_label(label='counts / pixel', rotation=270, fontsize=20, labelpad=20)\n",
    "cbar.ax.tick_params(labelsize=20)\n",
    "plt.show()"
   ]
  },
  {
   "cell_type": "code",
   "execution_count": null,
   "metadata": {},
   "outputs": [],
   "source": [
    "array = np.array( [ cont_div, \n",
    "                   cont_con, \n",
    "                   cont_par ] )\n",
    "contrast = []\n",
    "for i in np.arange( array.shape[0] ):\n",
    "    cont = []\n",
    "    projections = array[i, :]\n",
    "    for j in np.arange( projections.shape[0] ):\n",
    "        proj = projections[j] \n",
    "        N = len( proj )\n",
    "        mu = np.mean( proj )\n",
    "        std = np.std( proj )\n",
    "        kurt = scipy.stats.kurtosis( proj )\n",
    "        cont.append( std / max(projections[j]) )\n",
    "    contrast.append( cont )"
   ]
  },
  {
   "cell_type": "code",
   "execution_count": null,
   "metadata": {},
   "outputs": [],
   "source": [
    "%matplotlib inline\n",
    "font = FontProperties()\n",
    "font.set_name('Times New Roman')\n",
    "fig, ax = plt.subplots()\n",
    "ax.plot( xpos[mask], np.array(contrast[0])[mask], linestyle = linestyles['solid'], linewidth=7, label='Diverging')\n",
    "ax.plot( xpos[mask], np.array(contrast[1])[mask], linestyle = linestyles['densely dashed'], linewidth=7, label='Converging')\n",
    "ax.plot( xpos[mask], np.array(contrast[2])[mask], linestyle = linestyles['densely dotted'], linewidth=7, label='Parallel')\n",
    "ax.minorticks_on()\n",
    "ax.axvspan(-lim, lim,  alpha=0.25, label=\"FCFV\")\n",
    "ax.axvspan(-lim-pcfv-1, -lim, color='r', alpha=0.15, label=\"PCFV\")\n",
    "ax.axvspan(lim, lim+pcfv, color='r', alpha=0.15)\n",
    "ax.set_xlabel('Distance from FoV Center [mm]', fontsize=40, fontproperties=font, labelpad=10)\n",
    "ax.set_ylabel(r'Coding Contrast', fontsize=40, fontproperties=font, labelpad=15)\n",
    "ax.tick_params(which='major', length=10, width=2, direction='in', labelsize=40)\n",
    "ax.tick_params(which='minor', length=5, width=2, direction='in', labelsize=40)\n",
    "# legend =ax.legend(prop={\"family\":\"Times New Roman\", 'size': 30}, \n",
    "#                   ncol=2, loc='center', bbox_to_anchor=(0.85, 1.05), facecolor='white', framealpha=1)\n",
    "ax.yaxis.get_offset_text().set_fontsize(30)\n",
    "ax.yaxis.get_offset_text().set_family(\"Times New Roman\")\n",
    "# ax.set_ylim(0.001, 0.5)\n",
    "ax.set_xlim(-300, 300)\n",
    "for l in ax.xaxis.get_ticklabels():\n",
    "    l.set_family(\"Times New Roman\")\n",
    "    l.set_size(40)\n",
    "for l in ax.yaxis.get_ticklabels():\n",
    "    l.set_family(\"Times New Roman\")\n",
    "    l.set_size(40)  \n",
    "ax.grid(which='both')\n",
    "plt.show()"
   ]
  },
  {
   "cell_type": "code",
   "execution_count": null,
   "metadata": {},
   "outputs": [],
   "source": []
  }
 ],
 "metadata": {
  "kernelspec": {
   "display_name": "Python 3",
   "language": "python",
   "name": "python3"
  },
  "language_info": {
   "codemirror_mode": {
    "name": "ipython",
    "version": 3
   },
   "file_extension": ".py",
   "mimetype": "text/x-python",
   "name": "python",
   "nbconvert_exporter": "python",
   "pygments_lexer": "ipython3",
   "version": "3.7.3"
  }
 },
 "nbformat": 4,
 "nbformat_minor": 4
}
