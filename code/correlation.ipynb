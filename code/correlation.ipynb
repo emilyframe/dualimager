{
 "cells": [
  {
   "cell_type": "code",
   "execution_count": 1,
   "metadata": {},
   "outputs": [],
   "source": [
    "import numpy as np\n",
    "import sys\n",
    "sys.path.append('/Users/eframe/dmi/src')\n",
    "import eventAnalysis as ea\n",
    "import tables\n",
    "import matplotlib.pyplot as plt\n",
    "from matplotlib import cm\n",
    "import codedAperture as ca\n",
    "import calibrate as calib\n",
    "import scipy\n",
    "from matplotlib.animation import FuncAnimation\n",
    "import matplotlib\n",
    "from mpl_toolkits import mplot3d\n",
    "from matplotlib.font_manager import FontProperties"
   ]
  },
  {
   "cell_type": "code",
   "execution_count": 2,
   "metadata": {},
   "outputs": [],
   "source": [
    "def animate(i):\n",
    "    surf[0].remove()\n",
    "    surf[0] = ax.plot_surface(X, Y, val[i, :, :], color='grey', alpha = 0.8, rstride=1, cstride=1, linewidth=0.8, edgecolors='k')\n",
    "    return surf"
   ]
  },
  {
   "cell_type": "code",
   "execution_count": 3,
   "metadata": {},
   "outputs": [],
   "source": [
    "def animate_rect(i):\n",
    "    rect.set_xy(xy[i])\n",
    "    rect.set_visible(True)\n",
    "    return rect"
   ]
  },
  {
   "cell_type": "code",
   "execution_count": 4,
   "metadata": {},
   "outputs": [],
   "source": [
    "mFile = '/Users/eframe/dmi/mask.mat'\n",
    "data = scipy.io.loadmat(mFile)\n",
    "mask = data['Mopt']"
   ]
  },
  {
   "cell_type": "code",
   "execution_count": 26,
   "metadata": {},
   "outputs": [],
   "source": [
    "m = 1\n",
    "n_m = len( mask.flatten() )\n",
    "n_s = len( mask.flatten() ) / ( 4 * m ** 2 ) # total number of bins in submatrix\n",
    "a = int( np.sqrt( n_s ) / 2 )\n",
    "b = int( np.sqrt( n_m ) / 2 )\n",
    "A = mask[ b-a:b+a, b-a:b+a ].flatten() # submatrix in the center of array at a specific magnifications\n",
    "A = A / np.std( A )\n",
    "shifts = int( np.sqrt( n_m ) - np.sqrt( n_s ) ) + 1\n",
    "val = []\n",
    "I = int( np.sqrt( n_s ) )\n",
    "for i in np.arange( shifts ):\n",
    "    for j in np.arange( shifts ):\n",
    "        G = mask[ i:i + I, j:j + I ].flatten()\n",
    "        G = G / np.std( G )\n",
    "        psf = np.correlate(A, G)\n",
    "        val.extend( psf )\n",
    "val = np.array( val ).reshape( ( shifts, shifts ) ) / max(val) / 2"
   ]
  },
  {
   "cell_type": "code",
   "execution_count": 27,
   "metadata": {},
   "outputs": [
    {
     "data": {
      "text/plain": [
       "1089"
      ]
     },
     "execution_count": 27,
     "metadata": {},
     "output_type": "execute_result"
    }
   ],
   "source": [
    "N = int( ( np.sqrt(n_m) - np.sqrt(n_s) + 1 ) ** 2 ) # total number of submatrices\n",
    "N"
   ]
  },
  {
   "cell_type": "code",
   "execution_count": 28,
   "metadata": {},
   "outputs": [
    {
     "name": "stdout",
     "output_type": "stream",
     "text": [
      "0.24991092654589173 0.007475076934852142 0.270060253722356\n"
     ]
    }
   ],
   "source": [
    "sidelobes = np.delete( val.flatten(), np.argmax(val) )\n",
    "var = np.std( sidelobes )\n",
    "side = np.mean( sidelobes )\n",
    "max_side = np.max(sidelobes)\n",
    "print(side, var,  max_side)"
   ]
  },
  {
   "cell_type": "code",
   "execution_count": 29,
   "metadata": {},
   "outputs": [
    {
     "data": {
      "text/plain": [
       "0.007475076934852142"
      ]
     },
     "execution_count": 29,
     "metadata": {},
     "output_type": "execute_result"
    }
   ],
   "source": [
    "min(var.flatten())"
   ]
  },
  {
   "cell_type": "code",
   "execution_count": 30,
   "metadata": {},
   "outputs": [],
   "source": [
    "%matplotlib qt\n",
    "font = FontProperties()\n",
    "font.set_name('Times New Roman')\n",
    "fig = plt.figure()\n",
    "ax = plt.axes(projection='3d')\n",
    "ax.set_aspect('auto')\n",
    "x, y = np.arange( val.shape[0] ), np.arange( val.shape[0] )\n",
    "X, Y = np.meshgrid(x, y)\n",
    "surf = [ax.plot_surface(X, Y, val[:, :], color='grey', alpha = 0.5, rstride=1, cstride=1, linewidth=0.8, edgecolors='k')]\n",
    "ax.zaxis.set_rotate_label(False)\n",
    "ax.set_zlabel('correlation', rotation = 270, fontsize=50,fontproperties=font, labelpad=50)\n",
    "ax.set_xlabel('u shift', fontsize=50, fontproperties=font, labelpad=35)\n",
    "ax.set_ylabel('v shift', fontsize=50, fontproperties=font, labelpad=35)\n",
    "ax.tick_params( labelsize=50 )\n",
    "ax.tick_params( axis='z',pad=20 )\n",
    "ax.zaxis.set_ticks(np.arange(0.1, 0.6, 0.1))\n",
    "for l in ax.xaxis.get_ticklabels():\n",
    "    l.set_family(\"Times New Roman\")\n",
    "    l.set_size(50)\n",
    "for l in ax.yaxis.get_ticklabels():\n",
    "    l.set_family(\"Times New Roman\")\n",
    "    l.set_size(50)\n",
    "for l in ax.zaxis.get_ticklabels():\n",
    "    l.set_family(\"Times New Roman\")\n",
    "    l.set_size(50)"
   ]
  },
  {
   "cell_type": "code",
   "execution_count": 19,
   "metadata": {},
   "outputs": [],
   "source": [
    "A1 = mask[32:, :32].flatten()\n",
    "A2 = mask[16:48, 16:48].flatten()\n",
    "A1 = A1 / A1.std()\n",
    "A2 = A2 / A2.std()\n",
    "\n",
    "val1, val2 = [], []\n",
    "for i in np.arange(33):\n",
    "    for j in np.arange(33):\n",
    "        G = mask[i:i + 32, j:j + 32].flatten()\n",
    "        G = G / G.std()\n",
    "        psf = np.correlate(A1, G)\n",
    "        val1.extend(psf)\n",
    "for i in np.arange(33):\n",
    "    for j in np.arange(33):\n",
    "        G = mask[i:i + 32, j:j + 32].flatten()\n",
    "        G = G / G.std()\n",
    "        psf = np.correlate(A2, G)\n",
    "        val2.extend(psf)\n",
    "val1 = np.array(val1)/max(val1)/2\n",
    "val2 = np.array(val2)/max(val2)/2\n",
    "val = np.array([val1, val2])\n",
    "\n",
    "fig = plt.figure()\n",
    "xe, ye = np.arange(33), np.arange(33)\n",
    "X, Y = np.meshgrid(xe, ye)\n",
    "val = val.reshape(2, 33, 33)\n",
    "ax = plt.axes(projection='3d')\n",
    "surf = [ax.plot_surface(X, Y, val[0, :, :], color='grey', alpha = 0.8, rstride=1, cstride=1, linewidth=0.8, edgecolors='k')]\n",
    "ax.set_zlabel('corr', fontsize=20, rotation=270, labelpad=15)\n",
    "ax.tick_params(labelsize=15)"
   ]
  },
  {
   "cell_type": "code",
   "execution_count": 64,
   "metadata": {},
   "outputs": [],
   "source": [
    "%matplotlib qt\n",
    "fig, ax = plt.subplots()\n",
    "\n",
    "xe, ye = np.arange( 17 ), np.arange( 17 )\n",
    "X, Y = np.meshgrid( xe, ye )\n",
    "im = ax.pcolormesh( X, Y, mask[:16, :16].T, cmap='Greys')\n",
    "ax.set_xlabel('i', fontsize = 50, fontproperties=font)\n",
    "ax.set_ylabel('j', rotation=360, fontsize = 50, fontproperties=font, labelpad=15)\n",
    "ax.tick_params( labelsize=50 )\n",
    "ax.xaxis.set_ticks(np.arange(0, 17, 4))\n",
    "ax.yaxis.set_ticks(np.arange(0, 17, 4))\n",
    "ax.set_aspect('equal', adjustable='box')\n",
    "for l in ax.xaxis.get_ticklabels():\n",
    "    l.set_family(\"Times New Roman\")\n",
    "    l.set_size(50)\n",
    "for l in ax.yaxis.get_ticklabels():\n",
    "    l.set_family(\"Times New Roman\")\n",
    "    l.set_size(50)"
   ]
  },
  {
   "cell_type": "code",
   "execution_count": null,
   "metadata": {},
   "outputs": [],
   "source": []
  }
 ],
 "metadata": {
  "kernelspec": {
   "display_name": "Python 3",
   "language": "python",
   "name": "python3"
  },
  "language_info": {
   "codemirror_mode": {
    "name": "ipython",
    "version": 3
   },
   "file_extension": ".py",
   "mimetype": "text/x-python",
   "name": "python",
   "nbconvert_exporter": "python",
   "pygments_lexer": "ipython3",
   "version": "3.7.3"
  }
 },
 "nbformat": 4,
 "nbformat_minor": 4
}
