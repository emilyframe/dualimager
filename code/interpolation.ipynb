{
 "cells": [
  {
   "cell_type": "code",
   "execution_count": 1,
   "metadata": {},
   "outputs": [
    {
     "ename": "ModuleNotFoundError",
     "evalue": "No module named 'calibrate'",
     "output_type": "error",
     "traceback": [
      "\u001b[0;31m---------------------------------------------------------------------------\u001b[0m",
      "\u001b[0;31mModuleNotFoundError\u001b[0m                       Traceback (most recent call last)",
      "\u001b[0;32m<ipython-input-1-540f5137821e>\u001b[0m in \u001b[0;36m<module>\u001b[0;34m\u001b[0m\n\u001b[1;32m      3\u001b[0m \u001b[0;32mimport\u001b[0m \u001b[0msys\u001b[0m\u001b[0;34m\u001b[0m\u001b[0;34m\u001b[0m\u001b[0m\n\u001b[1;32m      4\u001b[0m \u001b[0msys\u001b[0m\u001b[0;34m.\u001b[0m\u001b[0mpath\u001b[0m\u001b[0;34m.\u001b[0m\u001b[0mappend\u001b[0m\u001b[0;34m(\u001b[0m\u001b[0;34m'/Users/eframe/cci2/src'\u001b[0m\u001b[0;34m)\u001b[0m\u001b[0;34m\u001b[0m\u001b[0;34m\u001b[0m\u001b[0m\n\u001b[0;32m----> 5\u001b[0;31m \u001b[0;32mimport\u001b[0m \u001b[0mcalibrate\u001b[0m \u001b[0;32mas\u001b[0m \u001b[0mcalib\u001b[0m\u001b[0;34m\u001b[0m\u001b[0;34m\u001b[0m\u001b[0m\n\u001b[0m\u001b[1;32m      6\u001b[0m \u001b[0;32mimport\u001b[0m \u001b[0meventAnalysis\u001b[0m \u001b[0;32mas\u001b[0m \u001b[0mea\u001b[0m\u001b[0;34m\u001b[0m\u001b[0;34m\u001b[0m\u001b[0m\n\u001b[1;32m      7\u001b[0m \u001b[0;32mimport\u001b[0m \u001b[0mtables\u001b[0m\u001b[0;34m\u001b[0m\u001b[0;34m\u001b[0m\u001b[0m\n",
      "\u001b[0;31mModuleNotFoundError\u001b[0m: No module named 'calibrate'"
     ]
    }
   ],
   "source": [
    "import numpy as np\n",
    "import h5py\n",
    "import sys\n",
    "sys.path.append('/Users/eframe/cci2/src')\n",
    "import calibrate as calib\n",
    "import eventAnalysis as ea\n",
    "import tables\n",
    "import matplotlib.pyplot as plt\n",
    "import codedAperture as ca\n",
    "import glob\n",
    "from scipy import ndimage\n",
    "import more_itertools as mit\n",
    "import pandas as pd"
   ]
  },
  {
   "cell_type": "code",
   "execution_count": 3,
   "metadata": {},
   "outputs": [],
   "source": [
    "file = '/Users/eframe/cci2/data/slitdiagonal2.h5'\n",
    "outfile = '/Users/eframe/cci2/data/slitdiagonal2_interp.h5'\n",
    "outfile2 = '/Users/eframe/cci2/data/slitdiagonal2_interp2.h5'"
   ]
  },
  {
   "cell_type": "code",
   "execution_count": 4,
   "metadata": {},
   "outputs": [],
   "source": [
    "# Loading R-value maps\n",
    "tabx1 = pd.read_hdf('/Users/eframe/cci2/data/rval/rvalMap_x1.h5', 'vals')\n",
    "tabx2 = pd.read_hdf('/Users/eframe/cci2/data/rval/rvalMap_x2.h5', 'vals')\n",
    "taby1 = pd.read_hdf('/Users/eframe/cci2/data/rval/rvalMap_y1.h5', 'vals')\n",
    "taby2 = pd.read_hdf('/Users/eframe/cci2/data/rval/rvalMap_y2.h5', 'vals')"
   ]
  },
  {
   "cell_type": "code",
   "execution_count": 5,
   "metadata": {},
   "outputs": [],
   "source": [
    "# Linking Raw Data to Event Data\n",
    "f = tables.open_file(file, 'r')\n",
    "edata = f.root.EventData.read().view(np.recarray)\n",
    "rdata = f.root.RawData.read().view(np.recarray)\n",
    "edata.rid = np.arange(len(edata))\n",
    "edata = np.sort(edata, order='timestamp')\n",
    "idx1, idx2 = ea.lump_edata(edata, twindow=25)"
   ]
  },
  {
   "cell_type": "code",
   "execution_count": 6,
   "metadata": {},
   "outputs": [],
   "source": [
    "# Grouping Singles Events\n",
    "singles = []\n",
    "for i in np.arange( len(idx1) ):\n",
    "    event = edata[idx1[i]:idx2[i]]    \n",
    "    if ea.is_single(event) is True: singles.append(event)  \n",
    "    else: continue"
   ]
  },
  {
   "cell_type": "code",
   "execution_count": 13,
   "metadata": {},
   "outputs": [],
   "source": [
    "pos = []\n",
    "for i in np.arange( len(singles) ): \n",
    "    x, y = False, False\n",
    "    x2, y2 = False, False\n",
    "    ## Sorting event data by strip number ##   \n",
    "    event = singles[i]\n",
    "    \n",
    "    iterable = np.sort(event, order='detector')\n",
    "    strips = [list(group) for group in mit.consecutive_groups(iterable.detector)]\n",
    "    \n",
    "    ## Getting indices of sorted strips ##\n",
    "    yindex = strips[0] - strips[0][0] \n",
    "    xindex = strips[1] - strips[1][0] + yindex[-1] + 1 \n",
    "\n",
    "    masktrigy = iterable[yindex].trigger == 1\n",
    "    masktrigx = iterable[xindex].trigger == 1\n",
    "    \n",
    "    ## Getting interpolated z-coordinate ##\n",
    "    ## If charge sharing, dt50 comes from AC and DC strips with maximum energy ##\n",
    "    esort = np.sort(event, order='ADC_value')\n",
    "    detsort = np.sort(esort[-2:], order='detector')\n",
    "    E = max(esort.ADC_value)\n",
    "    dt50 = detsort.t50[-1] - detsort.t50[0] \n",
    "    dt = int(detsort.timestamp[-1]) - int(detsort.timestamp[0])\n",
    "    dt50_new = dt + dt50\n",
    "    z = dt50_new * 0.3215503 + 7.9596899\n",
    "    if z < 0: z == 0 \n",
    "    elif z > 15: z == 15\n",
    "    \n",
    "    ## Getting interpolated y-coordinate ##\n",
    "    if ( len(iterable[yindex][masktrigy]) == 2 ) and ( min(iterable[yindex][masktrigy].ADC_value) != 0 ):\n",
    "        # For charge sharing\n",
    "        y = ( np.sort(iterable[yindex][masktrigy], order='detector').detector[0] - 38*0 ) * 2 - 1 + 0.5\n",
    "    else:\n",
    "        ystrip = np.sort(iterable[yindex], order='ADC_value').detector\n",
    "        yold = ( ystrip[-1] - 38*0 ) * 2 - 1 \n",
    "        iy = np.where(np.sort(iterable[yindex], order='detector').detector == ystrip[-1] )[0][0]\n",
    "        yrids = iterable[yindex].rid\n",
    "        ay1 = np.max(rdata[yrids[0]][30:50]) - np.mean(rdata[yrids[0]][:10])\n",
    "        ay2 = np.max(rdata[yrids[-1]][30:50]) - np.mean(rdata[yrids[-1]][:10])\n",
    "        Ry = np.divide( ( ay2 - ay1 ), ( ay2 + ay1 ), out=np.zeros_like(ay2 - ay1), where=(ay2 + ay1)!=0 )\n",
    "        if ( len(ystrip) == 3 ) and ( iy == 1 ):\n",
    "            y = yold + 0.5 * np.sign(Ry)\n",
    "        elif ( len(ystrip) == 2 ) and ( iy == 1 ):\n",
    "            j1 = ea.find_nearest(taby1['z'], z)\n",
    "            j2 = ea.find_nearest(taby1[j1:j1+19]['ratio'], np.divide( ay1, E, out=np.zeros_like(ay1), where=E!=0 ))\n",
    "            R = taby1[j1:j1+19]['rval'].values[j2]\n",
    "            y = yold + 0.5 * np.sign(R)\n",
    "        elif ( len(ystrip) == 2 ) and ( iy == 0 ):\n",
    "            j1 = ea.find_nearest(taby2['z'], z)\n",
    "            j2 = ea.find_nearest(taby2[j1:j1+19]['ratio'], np.divide( ay2, E, out=np.zeros_like(ay2), where=E!=0 ))\n",
    "            R = taby2[j1:j1+19]['rval'].values[j2]\n",
    "            y = yold + 0.5 * np.sign(R)\n",
    "               \n",
    "    ## Getting interpolated x-coordinate ##\n",
    "    if ( len(iterable[xindex][masktrigx]) == 2 ) and ( min(iterable[xindex][masktrigx].ADC_value) != 0 ):\n",
    "        # For charge sharing\n",
    "        x = ( np.sort(iterable[xindex][masktrigx], order='detector').detector[0] - 38*2 ) * 2 - 1 + 0.5\n",
    "    else:\n",
    "        xstrip = np.sort(iterable[xindex], order='ADC_value').detector\n",
    "        xold = ( xstrip[-1] - 38*2 ) * 2 - 1 \n",
    "        ix = np.where(np.sort(iterable[xindex], order='detector').detector == xstrip[-1] )[0][0]\n",
    "        xrids = iterable[xindex].rid\n",
    "        ax1 = np.max(rdata[xrids[0]][30:50]) - np.mean(rdata[xrids[0]][:10])\n",
    "        ax2 = np.max(rdata[xrids[-1]][30:50]) - np.mean(rdata[xrids[-1]][:10])\n",
    "        Rx = np.divide( ( ax2 - ax1 ), ( ax2 + ax1 ), out=np.zeros_like(ax2 - ax1), where=(ax2 + ax1)!=0 )\n",
    "        if ( len(xstrip) == 3 ) and ( ix == 1 ): \n",
    "            x = xold + 0.5 * np.sign(Rx)\n",
    "        elif ( len(xstrip) == 2 ) and ( ix == 1 ):\n",
    "            j1 = ea.find_nearest(tabx1['z'], z)\n",
    "            j2 = ea.find_nearest(tabx1[j1:j1+19]['ratio'], np.divide( ax1, E, out=np.zeros_like(ax1), where=E!=0 ))\n",
    "            R = tabx1[j1:j1+19]['rval'].values[j2]\n",
    "            x = xold + 0.5 * np.sign(R)\n",
    "        elif ( len(xstrip) == 2 ) and ( ix == 0 ):\n",
    "            j1 = ea.find_nearest(tabx2['z'], z)\n",
    "            j2 = ea.find_nearest(tabx2[j1:j1+19]['ratio'], np.divide( ax2, E, out=np.zeros_like(ax2), where=E!=0 ))\n",
    "            R = tabx2[j1:j1+19]['rval'].values[j2]\n",
    "            x = xold + 0.5 * np.sign(R)\n",
    "            \n",
    "    if (x is not False) and (y is not False):\n",
    "        pos.append([E, x, y, z, dt, dt50])"
   ]
  },
  {
   "cell_type": "code",
   "execution_count": 14,
   "metadata": {},
   "outputs": [
    {
     "data": {
      "image/png": "[encoded data removed]",
      "text/plain": [
       "<Figure size 432x288 with 2 Axes>"
      ]
     },
     "metadata": {
      "needs_background": "light"
     },
     "output_type": "display_data"
    }
   ],
   "source": [
    "# Binning Singles Events by Interaction Position\n",
    "%matplotlib inline\n",
    "l11 = f.root.Interactions.Single.read()\n",
    "pos = np.array(pos)\n",
    "xedges, yedges = np.arange(0.5, 76.5, 1),  np.arange(0.5, 76.5, 1)\n",
    "grid, X, Y = np.histogram2d(pos[:,1], pos[:,2], bins=(xedges, yedges) )\n",
    "grid = np.flip(grid, 1)\n",
    "fig, ax = plt.subplots()\n",
    "im = ax.pcolormesh(X, Y, grid.T)\n",
    "ax.tick_params(labelsize=30)\n",
    "ax.set_xlabel('x (mm)', fontsize=30, labelpad=20)\n",
    "ax.set_ylabel('y (mm)', fontsize=30, labelpad=20)\n",
    "cbar = plt.colorbar(im)\n",
    "cbar.set_label(label='events / pixel', rotation=270, fontsize=30, labelpad=40)\n",
    "cbar.ax.tick_params(labelsize=30)\n",
    "plt.show()"
   ]
  },
  {
   "cell_type": "code",
   "execution_count": 16,
   "metadata": {},
   "outputs": [],
   "source": [
    "pos = np.array(pos)\n",
    "df = pd.DataFrame( {'energy': pos[:,0], 'x': pos[:,1], 'y': pos[:,2], 'z': pos[:,3]} )\n",
    "df.to_hdf( outfile, key='vals', mode='w' )"
   ]
  },
  {
   "cell_type": "code",
   "execution_count": null,
   "metadata": {},
   "outputs": [],
   "source": [
    "# # For building R-value tables\n",
    "# ratiox1, ratiox2, ratioy1, ratioy2, rvalx1, rvalx2, zvalx1, zvalx2, rvaly1, rvaly2, zvaly1, zvaly2 = [], [], [], [], [], [], [], [], [], [], [], []\n",
    "# if (  np.divide( ax1, E, out=np.zeros_like(ax1), where=E!=0 ) >= 0 ) and (  np.divide( ax1, E, out=np.zeros_like(ax1), where=E!=0 ) <= 1 ):\n",
    "#     ratiox1.append( np.divide( ax1, E, out=np.zeros_like(ax1), where=E!=0 ))\n",
    "#     zvalx1.append(z)\n",
    "#     rvalx1.append(Rx)\n",
    "# if ( np.divide( ax2, E, out=np.zeros_like(ax2), where=E!=0 ) >= 0 ) and ( np.divide( ax2, E, out=np.zeros_like(ax2), where=E!=0 ) <= 1 ):\n",
    "#     ratiox2.append(ax2/E)\n",
    "#     zvalx2.append(z)\n",
    "#     rvalx2.append(Rx)  \n",
    "# if ( np.divide( ay1, E, out=np.zeros_like(ay1), where=E!=0 ) >= 0 ) and ( np.divide( ay1, E, out=np.zeros_like(ay1), where=E!=0 ) <= 1 ):\n",
    "#     ratioy1.append(np.divide( ay1, E, out=np.zeros_like(ay1), where=E!=0 ))\n",
    "#     zvaly1.append(z)\n",
    "#     rvaly1.append(Ry)\n",
    "# if ( np.divide( ay2, E, out=np.zeros_like(ay2), where=E!=0 ) >= 0 ) and ( np.divide( ay2, E, out=np.zeros_like(ay2), where=E!=0 ) <= 1 ):\n",
    "#     ratioy2.append(np.divide( ay2, E, out=np.zeros_like(ay2), where=E!=0 ))\n",
    "#     zvaly2.append(z)\n",
    "#     rvaly2.append(Ry)"
   ]
  },
  {
   "cell_type": "code",
   "execution_count": null,
   "metadata": {},
   "outputs": [],
   "source": [
    "# ## Histogramming R-value by depth of interaction and single boarding strip\n",
    "# ratio, zval, rval = ratioy2, zvaly2, rvaly2\n",
    "# redges, zedges = np.arange(0, 1, 0.05), np.arange(0, 16, 1)\n",
    "# hist1, redges, zedges = np.histogram2d(ratio, zval, bins=(redges, zedges), weights = rval)\n",
    "# hist2, x, y = np.histogram2d(ratio, zval, bins=(redges, zedges)) \n",
    "# grid = np.divide( hist1, hist2, out=np.zeros_like(hist1), where=hist2!=0 )\n",
    "# fig, ax = plt.subplots()\n",
    "# im = ax.pcolormesh(redges, zedges, grid.T)\n",
    "# cbar = plt.colorbar(im)\n",
    "# cbar.set_label(label='Rval', rotation=270, fontsize=20, labelpad=20)\n",
    "# cbar.ax.tick_params(labelsize=20)\n",
    "# plt.show()"
   ]
  },
  {
   "cell_type": "code",
   "execution_count": null,
   "metadata": {},
   "outputs": [],
   "source": [
    "# ## Saving R-value Tables\n",
    "# xedges, yedges = np.arange(0.025, 0.975, 0.05), np.arange(0.5, 15.5, 1)\n",
    "# X, Y = np.meshgrid(xedges, yedges)\n",
    "# df = pd.DataFrame( {'z': Y.flatten(), 'ratio':X.flatten(), 'rval':im.get_array() } )\n",
    "# df.to_hdf( '/Users/eframe/cci2/data/rvalMap_y2.h5', key='vals', mode='w' )"
   ]
  },
  {
   "cell_type": "code",
   "execution_count": null,
   "metadata": {},
   "outputs": [],
   "source": [
    "# fig, ax = plt.subplots()\n",
    "# ax.tick_params(labelsize=30)\n",
    "# ax.set_xlabel('Time (10 ns)', fontsize=30, labelpad=20)\n",
    "# ax.set_ylabel('Induced Charge Signal', fontsize=30, labelpad=20)\n",
    "# plt.plot(rdata[xrids[0]][:100]- np.mean(rdata[xrids[0]][:10]), linewidth = 3, label=r'Neighbor $X-1$')\n",
    "# plt.plot(rdata[xrids[1]][:100]- np.mean(rdata[xrids[1]][:10]), linewidth = 3, label=r'Trigger $X$') \n",
    "# plt.plot(rdata[xrids[-1]][:100]- np.mean(rdata[xrids[-1]][:10]), linewidth = 3, label=r'Neighbor $X+1$')\n",
    "# plt.legend(fontsize=30)\n",
    "# plt.show()"
   ]
  }
 ],
 "metadata": {
  "kernelspec": {
   "display_name": "Python 3",
   "language": "python",
   "name": "python3"
  },
  "language_info": {
   "codemirror_mode": {
    "name": "ipython",
    "version": 3
   },
   "file_extension": ".py",
   "mimetype": "text/x-python",
   "name": "python",
   "nbconvert_exporter": "python",
   "pygments_lexer": "ipython3",
   "version": "3.7.3"
  }
 },
 "nbformat": 4,
 "nbformat_minor": 4
}
