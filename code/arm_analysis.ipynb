{
 "cells": [
  {
   "cell_type": "code",
   "execution_count": 2,
   "metadata": {},
   "outputs": [
    {
     "ename": "ModuleNotFoundError",
     "evalue": "No module named 'compton'",
     "output_type": "error",
     "traceback": [
      "\u001b[0;31m---------------------------------------------------------------------------\u001b[0m",
      "\u001b[0;31mModuleNotFoundError\u001b[0m                       Traceback (most recent call last)",
      "\u001b[0;32m<ipython-input-2-00ba8e9e725b>\u001b[0m in \u001b[0;36m<module>\u001b[0;34m\u001b[0m\n\u001b[1;32m      5\u001b[0m \u001b[0;31m# import sys\u001b[0m\u001b[0;34m\u001b[0m\u001b[0;34m\u001b[0m\u001b[0;34m\u001b[0m\u001b[0m\n\u001b[1;32m      6\u001b[0m \u001b[0;31m# sys.path.append('/Users/eframe/dmi/src')\u001b[0m\u001b[0;34m\u001b[0m\u001b[0;34m\u001b[0m\u001b[0;34m\u001b[0m\u001b[0m\n\u001b[0;32m----> 7\u001b[0;31m \u001b[0;32mimport\u001b[0m \u001b[0mcompton\u001b[0m\u001b[0;34m\u001b[0m\u001b[0;34m\u001b[0m\u001b[0m\n\u001b[0m\u001b[1;32m      8\u001b[0m \u001b[0;32mimport\u001b[0m \u001b[0mcodedAperture\u001b[0m \u001b[0;32mas\u001b[0m \u001b[0mca\u001b[0m\u001b[0;34m\u001b[0m\u001b[0;34m\u001b[0m\u001b[0m\n\u001b[1;32m      9\u001b[0m \u001b[0;32mimport\u001b[0m \u001b[0meventAnalysis\u001b[0m \u001b[0;32mas\u001b[0m \u001b[0mea\u001b[0m\u001b[0;34m\u001b[0m\u001b[0;34m\u001b[0m\u001b[0m\n",
      "\u001b[0;31mModuleNotFoundError\u001b[0m: No module named 'compton'"
     ]
    }
   ],
   "source": [
    "# Importing Libraries\n",
    "import tables\n",
    "import matplotlib.pyplot as plt\n",
    "import numpy as np\n",
    "# import sys\n",
    "# sys.path.append('/Users/eframe/dmi/src')\n",
    "import compton \n",
    "import codedAperture as ca\n",
    "import eventAnalysis as ea\n",
    "import calibrate as calib\n",
    "import matplotlib.ticker as ticker\n",
    "import pandas as pd\n",
    "from scipy.optimize import curve_fit\n",
    "from matplotlib.font_manager import FontProperties"
   ]
  },
  {
   "cell_type": "code",
   "execution_count": 5,
   "metadata": {},
   "outputs": [
    {
     "data": {
      "text/plain": [
       "0.05023938105638876"
      ]
     },
     "execution_count": 5,
     "metadata": {},
     "output_type": "execute_result"
    }
   ],
   "source": [
    "lam =np.log(2)/10\n",
    "np.exp(lam*-1*69)* 6"
   ]
  },
  {
   "cell_type": "code",
   "execution_count": 2,
   "metadata": {},
   "outputs": [],
   "source": [
    "def convertToConeData_SIM(energy, pos, Es, leverThres):\n",
    "    \"\"\"Gets cone data from CCI-2 doubles events\n",
    "    \"\"\"\n",
    "\n",
    "    E1 = energy[:, 0]\n",
    "    E2 = energy[:, 1]\n",
    "\n",
    "    coneMu = 1 + 511 * ( 1 / Es - 1 / E2 )\n",
    "    \n",
    "    coneMu[ ( coneMu < -1 ) | ( coneMu > 1 ) ] = -1\n",
    "\n",
    "    # Get Interaction Position Order\n",
    "    pos1 = pos[:,0]\n",
    "    pos2 = pos[:,1]\n",
    "\n",
    "    # Get Cone Direction\n",
    "    coneAxes = pos2 - pos1\n",
    "\n",
    "    norms = np.sqrt( ( coneAxes ** 2 ).sum( axis = 1 ) )\n",
    "    coneDirs = coneAxes / norms[ :, np.newaxis ]\n",
    "\n",
    "    # Lever Arm Threshold\n",
    "    lmask = norms >= leverThres\n",
    "\n",
    "    return pos1[lmask], pos2[lmask], coneDirs[lmask], coneMu[lmask]"
   ]
  },
  {
   "cell_type": "code",
   "execution_count": 3,
   "metadata": {},
   "outputs": [],
   "source": [
    "def lorentzian1(x, amp, cen, sig):\n",
    "    return ( amp / np.pi ) * ( sig / ( ( x-cen ) **2 + sig**2 ) )"
   ]
  },
  {
   "cell_type": "code",
   "execution_count": 21,
   "metadata": {},
   "outputs": [],
   "source": [
    "# Getting Compton cones from simulated data \n",
    "E = 440\n",
    "max_pixel = [ 0, 0, 40 ] \n",
    "file_sim = '/Users/eframe/geant4py/output/x0y0z40e' + str(E) + '.h5'\n",
    "f_sim = tables.open_file(file_sim, 'r')\n",
    "d_sim = pd.DataFrame( f_sim.root.raw.data[:] )\n",
    "f_sim.close()\n",
    "\n",
    "# # Copy into new dataframe\n",
    "data = d_sim.copy()\n",
    "\n",
    "# Get Compton Data \n",
    "imask = ( data['interaction'] >= 0 ) & ( data['interaction'] <= 1 )\n",
    "data = data[imask]\n",
    "\n",
    "# Get Position and Energy of First Interaction\n",
    "smask = data.groupby(['eventID'])['trackID'].sum().values > 1 \n",
    "smask2 = data.groupby(['eventID'])['trackID'].sum().values[smask] == 2 # Doubles Events Only\n",
    "emask = data.groupby(['eventID'])['E'].sum().values[smask][smask2] == E\n",
    "gx1 = data.groupby(['eventID'])['gx'].first().values[smask][smask2][emask]\n",
    "gy1 = data.groupby(['eventID'])['gy'].first().values[smask][smask2][emask]\n",
    "gz1 = data.groupby(['eventID'])['gz'].first().values[smask][smask2][emask]\n",
    "E1 = data.groupby(['eventID'])['E'].first().values[smask][smask2][emask]\n",
    "\n",
    "# Get Position of Second Interaction\n",
    "gx2 = data.groupby(['eventID']).nth(1)['gx'].values[smask2][emask]\n",
    "gy2 = data.groupby(['eventID']).nth(1)['gy'].values[smask2][emask]\n",
    "gz2 = data.groupby(['eventID']).nth(1)['gz'].values[smask2][emask]\n",
    "E2 = data.groupby(['eventID']).nth(1)['E'].values[smask2][emask]\n",
    "\n",
    "p1 = np.array([gx1, gy1, gz1]).T\n",
    "p2 = np.array([gx2, gy2, gz2]).T\n",
    "\n",
    "# Blurring Position Resolution\n",
    "n = 0.5\n",
    "dTheta = 0.06 # 0.1, 0.08, 0.06, 0.05, 0.04 for 2mm, 1mm, 0.5mm, 0.25mm, ideal\n",
    "gx11 = np.round( gx1 / n ) * n\n",
    "gy11 = np.round( gy1 / n ) * n\n",
    "gz11 = np.round( gz1 / n ) * n\n",
    "\n",
    "gx22 = np.round( gx2 / n ) * n\n",
    "gy22 = np.round( gy2 / n ) * n\n",
    "gz22 = np.round( gz2 / n ) * n\n",
    "\n",
    "pos1_sim = np.array([gx11, gy11, gz11]).T\n",
    "pos2_sim = np.array([gx22, gy22, gz22]).T\n",
    "\n",
    "# Blurring Energy Resolution\n",
    "energies = np.array([356, 662, 1333])\n",
    "res = np.array([1.9, 2.30, 3.15]) / 2.36 # for cci-2 doubles events\n",
    "fit = np.poly1d( np.polyfit(energies, res, 1) )\n",
    "\n",
    "E1_blur, E2_blur = [], []\n",
    "for i in np.arange(len(E1)):\n",
    "    E1_blur.append( np.random.normal(E1[i], fit(E1[i]), 1)[0] )\n",
    "    E2_blur.append( np.random.normal(E2[i], fit(E2[i]), 1)[0] )\n",
    "E1_sim = np.array(E1_blur)\n",
    "E2_sim = np.array(E2_blur)"
   ]
  },
  {
   "cell_type": "code",
   "execution_count": 22,
   "metadata": {},
   "outputs": [
    {
     "name": "stderr",
     "output_type": "stream",
     "text": [
      "/Users/eframe/anaconda3/lib/python3.7/site-packages/ipykernel_launcher.py:20: RuntimeWarning: invalid value encountered in true_divide\n"
     ]
    }
   ],
   "source": [
    "# For Sequencing\n",
    "energy = np.array( [ E1_sim, E2_sim ] ).T\n",
    "pos = np.concatenate( ([ pos1_sim, pos2_sim ] ), axis = 1 ).reshape( len( pos1_sim ), 2, 3 )\n",
    "\n",
    "# Computing Cone Data for Simulations\n",
    "iP, iP2, cD, cM = convertToConeData_SIM( energy, pos, E, 0.1 )\n",
    "iP_lever, iP2_lever, cD_lever, cM_lever = convertToConeData_SIM( energy, pos, E, 14 )\n",
    "\n",
    "# Applying Threshold to Eliminate Light-up of Corner Source Voxels\n",
    "mask = ( cM > -0.4 ) & ( cM < 1 )\n",
    "\n",
    "iP_theta, iP2_theta, cD_theta, cM_theta = iP[mask], iP2[mask], cD[mask], cM[mask] \n",
    "\n",
    "# Applying Threshold to Eliminate Light-up of Corner Source Voxels\n",
    "mask2 = ( cM_lever > -0.4 ) & ( cM_lever < 1 )\n",
    "\n",
    "iP_both, iP2_both, cD_both, cM_both = iP_lever[mask2], iP2_lever[mask2], cD_lever[mask2], cM_lever[mask2] "
   ]
  },
  {
   "cell_type": "code",
   "execution_count": 23,
   "metadata": {},
   "outputs": [],
   "source": [
    "# Getting the angular resolution metric for each Compton cone for Simulated Data\n",
    "beta = []\n",
    "for i in np.arange( len( iP ) ):\n",
    "    vec1 = np.array( iP[i] ) - np.array( max_pixel )\n",
    "    vec2 = np.array( iP2[i]) - np.array( iP[i] )\n",
    "    cosalpha = np.dot( vec1, vec2 ) / ( np.sqrt( np.sum( vec1 ** 2 ) ) * np.sqrt( np.sum( vec2 ** 2 ) ) )\n",
    "    alpha = np.arccos( cosalpha )\n",
    "    theta = np.arccos( cM[i] )\n",
    "    beta.append( theta - alpha )\n",
    "    \n",
    "beta_lever = []\n",
    "for i in np.arange( len( iP_lever ) ):\n",
    "    vec1 = np.array( iP_lever[i] ) - np.array( max_pixel )\n",
    "    vec2 = np.array( iP2_lever[i]) - np.array( iP_lever[i] )\n",
    "    cosalpha = np.dot( vec1, vec2 ) / ( np.sqrt( np.sum( vec1 ** 2 ) ) * np.sqrt( np.sum( vec2 ** 2 ) ) )\n",
    "    alpha = np.arccos( cosalpha )\n",
    "    theta = np.arccos( cM_lever[i] )\n",
    "    beta_lever.append( theta - alpha )\n",
    "    \n",
    "beta_theta = []\n",
    "for i in np.arange( len( iP_theta ) ):\n",
    "    vec1 = np.array( iP_theta[i] ) - np.array( max_pixel )\n",
    "    vec2 = np.array( iP2_theta[i]) - np.array( iP_theta[i] )\n",
    "    cosalpha = np.dot( vec1, vec2 ) / ( np.sqrt( np.sum( vec1 ** 2 ) ) * np.sqrt( np.sum( vec2 ** 2 ) ) )\n",
    "    alpha = np.arccos( cosalpha )\n",
    "    theta = np.arccos( cM_theta[i] )\n",
    "    beta_theta.append( theta - alpha )\n",
    "    \n",
    "beta_both = []\n",
    "for i in np.arange( len( iP_both ) ):\n",
    "    vec1 = np.array( iP_both[i] ) - np.array( max_pixel )\n",
    "    vec2 = np.array( iP2_both[i]) - np.array( iP_both[i] )\n",
    "    cosalpha = np.dot( vec1, vec2 ) / ( np.sqrt( np.sum( vec1 ** 2 ) ) * np.sqrt( np.sum( vec2 ** 2 ) ) )\n",
    "    alpha = np.arccos( cosalpha )\n",
    "    theta = np.arccos( cM_both[i] )\n",
    "    beta_both.append( theta - alpha )"
   ]
  },
  {
   "cell_type": "code",
   "execution_count": 24,
   "metadata": {},
   "outputs": [],
   "source": [
    "beta = np.array(beta)\n",
    "beta_lever = np.array(beta_lever)\n",
    "beta_theta = np.array(beta_theta)\n",
    "beta_both = np.array(beta_both)"
   ]
  },
  {
   "cell_type": "code",
   "execution_count": 25,
   "metadata": {},
   "outputs": [],
   "source": [
    "# Histogramming the angular resolution metric\n",
    "hist, be = np.histogram( beta, bins=150 )\n",
    "hist_lever, be_lever = np.histogram( beta_lever, bins=150 )\n",
    "hist_theta, be_theta = np.histogram( beta_theta, bins=150 )\n",
    "hist_both, be_both = np.histogram( beta_both, bins=150 )\n",
    "\n",
    "reset = be[:-1] * 180 / np.pi\n",
    "reset_lever = be_lever[:-1] * 180 / np.pi\n",
    "reset_theta = be_theta[:-1] * 180 / np.pi\n",
    "reset_both = be_both[:-1] * 180 / np.pi\n",
    "\n",
    "popt, pcov = curve_fit(lorentzian1, reset, hist, p0 = [1, 0, 3])\n",
    "popt_lever, pcov_lever = curve_fit(lorentzian1, reset_lever, hist_lever, p0 = [1, 0, 3])\n",
    "popt_theta, pcov_theta = curve_fit(lorentzian1, reset_theta, hist_theta, p0 = [1, 0, 3])\n",
    "popt_both, pcov_both = curve_fit(lorentzian1, reset_both, hist_both, p0 = [1, 0, 3])\n",
    "\n",
    "vals = np.arange(min(reset), max(reset), 0.001)\n",
    "lorenz_curve = lorentzian1( vals, popt[0], popt[1], popt[2] )\n",
    "lorenz_curve_lever = lorentzian1( vals, popt_lever[0], popt_lever[1], popt_lever[2] )\n",
    "lorenz_curve_theta = lorentzian1( vals, popt_theta[0], popt_theta[1], popt_theta[2] )\n",
    "lorenz_curve_both = lorentzian1( vals, popt_both[0], popt_both[1], popt_both[2] )"
   ]
  },
  {
   "cell_type": "code",
   "execution_count": 26,
   "metadata": {},
   "outputs": [
    {
     "data": {
      "image/png": "[encoded data removed]",
      "text/plain": [
       "<Figure size 432x288 with 1 Axes>"
      ]
     },
     "metadata": {
      "needs_background": "light"
     },
     "output_type": "display_data"
    }
   ],
   "source": [
    "%matplotlib inline\n",
    "font = FontProperties()\n",
    "font.set_name('Times New Roman')\n",
    "fig, ax = plt.subplots()\n",
    "ax.set_xlabel('Angular Resolution Metric [deg]', fontsize=40, fontproperties=font)\n",
    "ax.set_ylabel('Simulated Counts', fontsize=40, labelpad=20, fontproperties=font)\n",
    "ax.minorticks_on()\n",
    "ax.tick_params(which='major', length=10, width=2, direction='in', labelsize=40)\n",
    "ax.tick_params(which='minor', length=5, width=2, direction='in')\n",
    "\n",
    "ax.plot( reset, hist,'^', color='tab:blue', markersize=10, label='All Double-Interaction Events')\n",
    "ax.plot(vals, lorenz_curve,'tab:blue', linewidth=4)\n",
    "\n",
    "ax.plot( reset_theta , hist_theta, 'o', color='tab:orange', markersize=10, label='Scattering Angle Criterion Only')\n",
    "ax.plot( vals, lorenz_curve_theta,'tab:orange', linewidth=4)\n",
    "\n",
    "ax.plot( reset_lever , hist_lever,'s', color='tab:green', markersize=10, label='Lever Arm Criterion Only')\n",
    "ax.plot( vals, lorenz_curve_lever,'tab:green', linewidth=4)\n",
    "\n",
    "ax.plot( reset_both , hist_both, 'P', color='tab:red', markersize=10, label='Both Criteria')\n",
    "ax.plot( vals, lorenz_curve_both,'tab:red', linewidth=4)\n",
    "\n",
    "#ax.legend(prop={\"family\":\"Times New Roman\", 'size': 27}, loc='upper right', framealpha=1 )\n",
    "ax.text(0.1, 0.9, '122 keV', transform=ax.transAxes, \n",
    "        fontsize=40, fontproperties=font, verticalalignment='top', \n",
    "        weight='bold', bbox=dict(facecolor='white', edgecolor='None', pad=10))\n",
    "ax.set_xlim(-30, 31)\n",
    "ax.grid(which='both')\n",
    "for l in ax.xaxis.get_ticklabels():\n",
    "    l.set_family(\"Times New Roman\")\n",
    "    l.set_size(40)\n",
    "for l in ax.yaxis.get_ticklabels():\n",
    "    l.set_family(\"Times New Roman\")\n",
    "    l.set_size(40)\n",
    "plt.show()"
   ]
  },
  {
   "cell_type": "code",
   "execution_count": 27,
   "metadata": {},
   "outputs": [],
   "source": [
    "half = np.max(lorenz_curve) / 2\n",
    "half_lever = np.max(lorenz_curve_lever) / 2\n",
    "half_theta = np.max(lorenz_curve_theta) / 2\n",
    "half_both = np.max(lorenz_curve_both) / 2"
   ]
  },
  {
   "cell_type": "code",
   "execution_count": 28,
   "metadata": {},
   "outputs": [],
   "source": [
    "mask = ( lorenz_curve >= half )\n",
    "mask_lever = ( lorenz_curve_lever >= half_lever )\n",
    "mask_theta = ( lorenz_curve_theta >= half_theta )\n",
    "mask_both = ( lorenz_curve_both >= half_both )"
   ]
  },
  {
   "cell_type": "code",
   "execution_count": 29,
   "metadata": {},
   "outputs": [],
   "source": [
    "FWHM = np.abs( vals[mask][0] ) + np.abs( vals[mask][-1] )\n",
    "FWHM_lever = np.abs( vals[mask_lever][0] ) + np.abs( vals[mask_lever][-1] )\n",
    "FWHM_theta = np.abs( vals[mask_theta][0] ) + np.abs( vals[mask_theta][-1] )\n",
    "FWHM_both = np.abs( vals[mask_both][0] ) + np.abs( vals[mask_both][-1] )"
   ]
  },
  {
   "cell_type": "code",
   "execution_count": 30,
   "metadata": {},
   "outputs": [
    {
     "name": "stdout",
     "output_type": "stream",
     "text": [
      "7.703000000036781 6.131000000029275 4.827000000023048 3.967000000018942\n"
     ]
    }
   ],
   "source": [
    "print(FWHM, FWHM_theta, FWHM_lever, FWHM_both)"
   ]
  },
  {
   "cell_type": "code",
   "execution_count": 31,
   "metadata": {},
   "outputs": [
    {
     "name": "stdout",
     "output_type": "stream",
     "text": [
      "0.051039568782649584 0.031143268383768068 0.012216827553931237 0.008513211772725527\n"
     ]
    }
   ],
   "source": [
    "solid = ( 74 * 74 ) / ( 4 * np.pi * 40 ** 2 + ( 2 * 74 * 74 ) )\n",
    "sens = len( beta ) / ( 1000000  * solid )\n",
    "sens_theta = len( beta_theta ) / ( 1000000  * solid )\n",
    "sens_lever = len( beta_lever ) / ( 1000000  * solid )\n",
    "sens_both = len( beta_both ) / ( 1000000  * solid )\n",
    "print(sens, sens_theta, sens_lever, sens_both)"
   ]
  },
  {
   "cell_type": "code",
   "execution_count": 32,
   "metadata": {},
   "outputs": [],
   "source": [
    "# reset_both2 = reset_both.copy()\n",
    "# hist_both2 = hist_both.copy()\n",
    "# vals2 = vals.copy()\n",
    "# lorenz_curve_both2 = lorenz_curve_both.copy()"
   ]
  },
  {
   "cell_type": "code",
   "execution_count": 34,
   "metadata": {},
   "outputs": [],
   "source": [
    "%matplotlib qt\n",
    "font = FontProperties()\n",
    "font.set_name('Times New Roman')\n",
    "fig, ax = plt.subplots()\n",
    "ax.set_xlabel('Angular Resolution Metric [deg]', fontsize=40, fontproperties=font)\n",
    "ax.set_ylabel('Simulated Counts', fontsize=40, labelpad=20, fontproperties=font)\n",
    "ax.minorticks_on()\n",
    "ax.tick_params(which='major', length=10, width=2, direction='in', labelsize=40)\n",
    "ax.tick_params(which='minor', length=5, width=2, direction='in')\n",
    "\n",
    "ax.plot( reset_both, hist_both,'^', color='tab:orange', markersize=10, label='Strip Pitch = 0.5 mm')\n",
    "ax.plot(vals, lorenz_curve_both,'tab:orange', linewidth=4)\n",
    "\n",
    "ax.plot( reset_both2, hist_both2, 'P', color='tab:blue', markersize=10, label='Strip Pitch = 2 mm')\n",
    "ax.plot( vals2, lorenz_curve_both2,'tab:blue', linewidth=4)\n",
    "\n",
    "ax.legend(prop={\"family\":\"Times New Roman\", 'size': 35}, loc='upper right', framealpha=1 )\n",
    "# ax.text(0.1, 0.9, '440 keV', transform=ax.transAxes, \n",
    "#         fontsize=40, fontproperties=font, verticalalignment='top', \n",
    "#         weight='bold', bbox=dict(facecolor='white', edgecolor='None', pad=10))\n",
    "ax.set_xlim(-30, 31)\n",
    "ax.grid(which='both')\n",
    "for l in ax.xaxis.get_ticklabels():\n",
    "    l.set_family(\"Times New Roman\")\n",
    "    l.set_size(40)\n",
    "for l in ax.yaxis.get_ticklabels():\n",
    "    l.set_family(\"Times New Roman\")\n",
    "    l.set_size(40)\n",
    "plt.show()"
   ]
  },
  {
   "cell_type": "code",
   "execution_count": null,
   "metadata": {},
   "outputs": [],
   "source": []
  }
 ],
 "metadata": {
  "kernelspec": {
   "display_name": "Python 3",
   "language": "python",
   "name": "python3"
  },
  "language_info": {
   "codemirror_mode": {
    "name": "ipython",
    "version": 3
   },
   "file_extension": ".py",
   "mimetype": "text/x-python",
   "name": "python",
   "nbconvert_exporter": "python",
   "pygments_lexer": "ipython3",
   "version": "3.7.3"
  }
 },
 "nbformat": 4,
 "nbformat_minor": 4
}
