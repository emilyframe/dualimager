{
 "cells": [
  {
   "cell_type": "code",
   "execution_count": 4,
   "metadata": {},
   "outputs": [],
   "source": [
    "import numpy as np\n",
    "import tables\n",
    "import matplotlib.pyplot as plt\n",
    "import sys\n",
    "sys.path.append('/Users/eframe/dmi/src')\n",
    "import calibrate as calib\n",
    "import eventAnalysis as ea\n",
    "import compton\n",
    "import pandas as pd\n",
    "from matplotlib.font_manager import FontProperties"
   ]
  },
  {
   "cell_type": "code",
   "execution_count": 6,
   "metadata": {},
   "outputs": [],
   "source": [
    "# Properties of Source\n",
    "file = '/Users/eframe/dmi/data/effData/co57_m2_v2.h5'\n",
    "activity = 2.62 # 2.62 Co57, 9.81 Am241, 7.17 Cs137, 1.47 Co60\n",
    "branch = 0.86 # 0.86 Co57, 0.85 Cs137\n",
    "photons = activity * 37000 * branch # photons per sec\n",
    "standoff = 180 # 180 Co57 and Am241, 120 Cs137 and Co60\n",
    "E, sigma = 122, 2"
   ]
  },
  {
   "cell_type": "code",
   "execution_count": 7,
   "metadata": {},
   "outputs": [],
   "source": [
    "# Coded Aperture Image Events\n",
    "f = tables.open_file( file, 'r' )\n",
    "time = f.root.EventData.read()['timestamp']\n",
    "duration = ( time[-1] * 10 ** -8 - time[0] * 10 ** -8 )\n",
    "l11 = f.root.Interactions.Single.read()\n",
    "\n",
    "maskE1 = ( np.array( l11['energy'] ) > E - sigma ) &\\\n",
    "        ( np.array( l11['energy'] ) < E + sigma )\n",
    "\n",
    "photosingle = len(l11[maskE1]) \n",
    "\n",
    "mask = ( l11['det'] == 1 )\n",
    "maskZ = ( l11[mask]['z'] < 5 )\n",
    "singles = l11[mask][maskZ]\n",
    "maskE = ( np.array( singles['energy'] ) > E - sigma ) &\\\n",
    "        ( np.array( singles['energy'] ) < E + sigma )\n",
    "singles = singles[maskE]\n",
    "imevents = len(singles)"
   ]
  },
  {
   "cell_type": "code",
   "execution_count": 4,
   "metadata": {},
   "outputs": [],
   "source": [
    "# Compton Image Events\n",
    "lever_thres = 14\n",
    "mu_low, mu_high = -0.4, 1\n",
    "\n",
    "f = tables.open_file( file, 'r' )\n",
    "time = f.root.EventData.read()['timestamp']\n",
    "duration = ( time[-1] * 10 ** -8 - time[0] * 10 ** -8 )\n",
    "\n",
    "d = f.root.Interactions.Double.read()\n",
    "d['x'] = d['x'] - 38\n",
    "d['y'] = d['y'] - 38  \n",
    "l22 = d.reshape( int ( len ( d ) / 2 ), 2 ) \n",
    "\n",
    "\n",
    "# Getting Cone Data\n",
    "emask = ( l22['energy'].sum( axis = 1 ) >= E - sigma ) & ( l22['energy'].sum( axis = 1 ) <= E + sigma )   \n",
    "events_old = l22[emask]\n",
    "events = compton.correct_depth( events_old )\n",
    "events['z'] = -events['z']\n",
    "\n",
    "photodouble = len(events)\n",
    "\n",
    "# # Sequencing Interactions\n",
    "energy1 = np.array( [ events['energy' ][ :, 0 ], events['energy'][ :, 1 ] ] ).T\n",
    "energy2 = np.array( [ events['energy' ][ :, 1 ], events['energy'][ :, 0 ] ] ).T\n",
    "p1 = np.squeeze( np.array( [ events['x'][ :, 0 ], events['y'][ :, 0 ], events['z'][ :, 0 ] ] ) ).T\n",
    "p2 = np.squeeze( np.array( [ events['x'][ :, 1 ], events['y'][ :, 1 ], events['z'][ :, 1 ] ] ) ).T\n",
    "pos1 = np.concatenate( ( [ p1, p2 ] ) , axis = 1 ).reshape( len( p1 ), 2, 3 )\n",
    "pos2 = np.concatenate( ( [ p2, p1 ] ) , axis = 1 ).reshape( len( p1 ), 2, 3 )\n",
    "\n",
    "P12, P21 = compton.sequence_probability( energy1, pos1, E )\n",
    "mask = ( P12 < P21 )\n",
    "energy = energy1.copy()\n",
    "energy[mask] = energy2[mask]\n",
    "pos = pos1.copy()\n",
    "pos[mask] = pos2[mask]\n",
    "iP, iP2, cD, cM = compton.convertToConeData_SEQ( energy, pos, E, lever_thres )\n",
    "mask = ( cM > mu_low ) & ( cM < mu_high )\n",
    "\n",
    "imevents = len( cM[mask] ) "
   ]
  },
  {
   "cell_type": "code",
   "execution_count": 5,
   "metadata": {},
   "outputs": [],
   "source": [
    "# Total Detected (cps)\n",
    "totalco57 = 594.1702262057488\n",
    "peaktotalco57 = 239.90665322095978\n",
    " \n",
    "totalcs137 = 3205.373255091078\n",
    "peaktotalcs137 = 336.7151272293259"
   ]
  },
  {
   "cell_type": "code",
   "execution_count": 6,
   "metadata": {},
   "outputs": [
    {
     "name": "stdout",
     "output_type": "stream",
     "text": [
      "in solid angle: 1091.8984195457476\n",
      "in detector: 0.5441625480627913\n",
      "in photopeak: 0.2197151758134845\n",
      "in single photopeak: 0.1655058680686205\n",
      "in reconstruction: 0.0\n"
     ]
    }
   ],
   "source": [
    "solid = ( 74 * 74 ) / ( 4 * np.pi * standoff ** 2 + ( 2 * 74 * 74 ) )\n",
    "solidangle = photons * solid\n",
    "print( 'in solid angle:', photons * solid )\n",
    "print( 'in detector:', totalco57 / solidangle )\n",
    "print( 'in photopeak:', peaktotalco57 / solidangle )\n",
    "print( 'in single photopeak:', photosingle / duration / solidangle  )\n",
    "print( 'in reconstruction:', imevents / duration / solidangle  )"
   ]
  },
  {
   "cell_type": "code",
   "execution_count": 40,
   "metadata": {},
   "outputs": [],
   "source": [
    "# Bar Graph\n",
    "%matplotlib qt\n",
    "\n",
    "meas_cs = [0.4981588474327561, 0.0523301364130739, 0.004564811591131973, 0.0012734047856188411]\n",
    "sim_cs = [0.5446731274785485, 0.15633681776359573, 0.034519561868895265, 0.006132917083306265]\n",
    "meas_co = [0.5441625480627913, 0.2197151758134845, 0.1655058680686205, 0.10854377670764913 ]\n",
    "sim_co = [0.4649824076228806, 0.4040155024526228, 0.2765461872594538, 0.1779760249866888]\n",
    "\n",
    "font = FontProperties()\n",
    "font.set_name('Times New Roman')\n",
    "\n",
    "df = pd.DataFrame( {'Simulation': sim_cs,\n",
    "                    'Experiment': meas_cs},\n",
    "                  index=[r'Total' + '\\n' + 'Detected', \n",
    "                         'Total in' + '\\n' + 'Photopeak', \n",
    "                         'Doubles in' + '\\n' + 'Photopeak', \n",
    "                         'Selected for' + '\\n' + 'Recontruction'] )\n",
    "ax = df.plot.bar(width = 0.5, linewidth=10, edgecolor='white', rot=30 )\n",
    "ax.set_yscale('log')\n",
    "\n",
    "bars = ax.patches\n",
    "patterns =('/')\n",
    "hatches = [ p for p in patterns for i in range( len( df ) ) ]\n",
    "for bar, hatch in zip(bars, hatches):\n",
    "    bar.set_hatch( hatch )\n",
    "    \n",
    "ax.set_ylabel('Fraction of Photons in Solid Angle [log]', fontsize=30, fontproperties=font)\n",
    "ax.minorticks_on()\n",
    "ax.tick_params(which='major',  axis='y', length=10, width=2, direction='in', labelsize=30)\n",
    "ax.tick_params(which='major',  axis='x', length=0, width=0, direction='in', labelsize=25)\n",
    "ax.tick_params(which='minor',  axis ='y', length=10, width=2, direction='in', labelsize=30)\n",
    "ax.tick_params(which='minor',  axis ='x', length=0, width=0, direction='in', labelsize=25)\n",
    "ax.set_title('Compton Reconstruction at 662 keV', fontsize = 30, fontproperties=font)\n",
    "ax.legend(prop={\"family\":\"Times New Roman\", 'size': 25} )\n",
    "ax.set_ylim(1E-3, 1E0)\n",
    "ax.yaxis.get_offset_text().set_fontsize(20)\n",
    "ax.yaxis.get_offset_text().set_family(\"Times New Roman\")\n",
    "for l in ax.xaxis.get_ticklabels():\n",
    "    l.set_family(\"Times New Roman\")\n",
    "    l.set_size(25)\n",
    "for l in ax.yaxis.get_ticklabels():\n",
    "    l.set_family(\"Times New Roman\")\n",
    "    l.set_size(30) \n",
    "plt.show()"
   ]
  },
  {
   "cell_type": "code",
   "execution_count": null,
   "metadata": {},
   "outputs": [],
   "source": [
    "# Bar Graph\n",
    "%matplotlib qt\n",
    "\n",
    "meas_cs = [0.4981588474327561, 0.0523301364130739, 0.004564811591131973, 0.0012734047856188411]\n",
    "meas_co = [0.5441625480627913, 0.2197151758134845, 0.1655058680686205, 0.10854377670764913 ]\n",
    "\n",
    "font = FontProperties()\n",
    "font.set_name('Times New Roman')\n",
    "\n",
    "df = pd.DataFrame( {r'Co-57' + '\\n' + '(122 keV)': meas_co},\n",
    "                  index=[r'Total' + '\\n' + 'Detected', \n",
    "                         'Total in' + '\\n' + 'Photopeak', \n",
    "                         'Singles in' + '\\n' + 'Photopeak', \n",
    "                         'Selected for' + '\\n' + 'Recontruction'] )\n",
    "ax = df.plot.bar(width = 0.5, color = 'lightgrey', edgecolor='black', rot=30 )\n",
    "ax.set_yscale('log')\n",
    "\n",
    "bars = ax.patches\n",
    "patterns =('/')\n",
    "hatches = [ p for p in patterns for i in range( len( df ) ) ]\n",
    "for bar, hatch in zip(bars, hatches):\n",
    "    bar.set_hatch( hatch )\n",
    "\n",
    "    \n",
    "ax.set_ylabel('Fraction of Photons in Solid Angle [log]', fontsize=30, fontproperties=font)\n",
    "ax.minorticks_on()\n",
    "ax.tick_params(which='major',  axis='y', length=10, width=2, direction='in', labelsize=30)\n",
    "ax.tick_params(which='major',  axis='x', length=0, width=0, direction='in', labelsize=25)\n",
    "ax.tick_params(which='minor',  axis ='y', length=10, width=2, direction='in', labelsize=30)\n",
    "ax.tick_params(which='minor',  axis ='x', length=0, width=0, direction='in', labelsize=25)\n",
    "ax.set_title('Coded Aperture Reconstruction at 122 keV', fontsize = 30, fontproperties=font)\n",
    "ax.legend(prop={\"family\":\"Times New Roman\", 'size': 25} )\n",
    "ax.set_ylim(1E-3, 1E0)\n",
    "ax.yaxis.get_offset_text().set_fontsize(20)\n",
    "ax.yaxis.get_offset_text().set_family(\"Times New Roman\")\n",
    "for l in ax.xaxis.get_ticklabels():\n",
    "    l.set_family(\"Times New Roman\")\n",
    "    l.set_size(25)\n",
    "for l in ax.yaxis.get_ticklabels():\n",
    "    l.set_family(\"Times New Roman\")\n",
    "    l.set_size(30) \n",
    "plt.show()"
   ]
  },
  {
   "cell_type": "code",
   "execution_count": 6,
   "metadata": {},
   "outputs": [],
   "source": [
    "# Bar Graph\n",
    "%matplotlib qt\n",
    "\n",
    "meas_cs = [0.4981588474327561, 0.0523301364130739, 0.004564811591131973, 0.0012734047856188411]\n",
    "meas_co = [0.5441625480627913, 0.2197151758134845, 0.1655058680686205, 0.10854377670764913 ]\n",
    "\n",
    "font = FontProperties()\n",
    "font.set_name('Times New Roman')\n",
    "\n",
    "df = pd.DataFrame( {r'Cs-137' + '\\n' + '662 keV': meas_cs},\n",
    "                  index=[r'Total' + '\\n' + 'Detected', \n",
    "                         'Total in' + '\\n' + 'Photopeak', \n",
    "                         'Doubles in' + '\\n' + 'Photopeak', \n",
    "                         'Selected for' + '\\n' + 'Recontruction'] )\n",
    "ax = df.plot.bar(width = 0.5, color = 'grey', edgecolor='black', rot=30 )\n",
    "ax.set_yscale('log')\n",
    "\n",
    "bars = ax.patches\n",
    "patterns =('X')\n",
    "hatches = [ p for p in patterns for i in range( len( df ) ) ]\n",
    "for bar, hatch in zip(bars, hatches):\n",
    "    bar.set_hatch( hatch )\n",
    "\n",
    "    \n",
    "ax.set_ylabel('Fraction of Photons in Solid Angle [log]', fontsize=40, fontproperties=font)\n",
    "ax.minorticks_on()\n",
    "ax.tick_params(which='major',  axis='y', length=10, width=2, direction='in', labelsize=40)\n",
    "ax.tick_params(which='major',  axis='x', length=0, width=0, direction='in', labelsize=35)\n",
    "ax.tick_params(which='minor',  axis ='y', length=10, width=2, direction='in', labelsize=40)\n",
    "ax.tick_params(which='minor',  axis ='x', length=0, width=0, direction='in', labelsize=35)\n",
    "ax.set_title('Compton Reconstruction at 662 keV', fontsize = 40, fontproperties=font)\n",
    "ax.legend(prop={\"family\":\"Times New Roman\", 'size': 35}, frameon=False )\n",
    "ax.set_ylim(1E-3, 1E0)\n",
    "ax.yaxis.get_offset_text().set_fontsize(20)\n",
    "ax.yaxis.get_offset_text().set_family(\"Times New Roman\")\n",
    "for l in ax.xaxis.get_ticklabels():\n",
    "    l.set_family(\"Times New Roman\")\n",
    "    l.set_size(35)\n",
    "for l in ax.yaxis.get_ticklabels():\n",
    "    l.set_family(\"Times New Roman\")\n",
    "    l.set_size(40) \n",
    "plt.show()"
   ]
  },
  {
   "cell_type": "code",
   "execution_count": null,
   "metadata": {},
   "outputs": [],
   "source": [
    "# Intrinsic Sensitivity Calculations\n",
    "comp = False\n",
    "vals = co57\n",
    "\n",
    "act = vals[0]\n",
    "peak_eff = vals[1]\n",
    "photons = activity * branch * duration * ( 1 - deadtime )\n",
    "solid = ( 5776 ) / ( 4 * np.pi * standoff ** 2 + 2 * 5776 )\n",
    "eff = imevents / ( photons * solid * branch )\n",
    "if comp is True:\n",
    "    eint = ( imevents ) / ( act * solid * branch )\n",
    "else:\n",
    "    eint = ( imevents ) / (  2 * act * solid * branch )\n",
    "\n",
    "print('total:', act )\n",
    "print('solid:', act * solid * 2 )\n",
    "print('peak:', act * branch * peak_eff )\n",
    "print('image events:', imevents)\n",
    "print('true:', eff)\n",
    "print( 'calculated:', eint )"
   ]
  },
  {
   "cell_type": "code",
   "execution_count": 3,
   "metadata": {},
   "outputs": [
    {
     "data": {
      "text/plain": [
       "156.794425087108"
      ]
     },
     "execution_count": 3,
     "metadata": {},
     "output_type": "execute_result"
    }
   ],
   "source": [
    "cps = 2700 / ( 41 * 60 )\n",
    "act = 7 / 1000 # MBq\n",
    "cps / act "
   ]
  },
  {
   "cell_type": "code",
   "execution_count": 4,
   "metadata": {},
   "outputs": [
    {
     "data": {
      "text/plain": [
       "150.42735042735043"
      ]
     },
     "execution_count": 4,
     "metadata": {},
     "output_type": "execute_result"
    }
   ],
   "source": [
    "cps = 4400 / ( 75 * 60 )\n",
    "act = 6.5 / 1000 # MBq\n",
    "cps / act"
   ]
  },
  {
   "cell_type": "code",
   "execution_count": 6,
   "metadata": {},
   "outputs": [
    {
     "data": {
      "text/plain": [
       "1280"
      ]
     },
     "execution_count": 6,
     "metadata": {},
     "output_type": "execute_result"
    }
   ],
   "source": [
    "160*8"
   ]
  },
  {
   "cell_type": "code",
   "execution_count": 1,
   "metadata": {},
   "outputs": [
    {
     "data": {
      "text/plain": [
       "0.02"
      ]
     },
     "execution_count": 1,
     "metadata": {},
     "output_type": "execute_result"
    }
   ],
   "source": [
    "1 * (20 / 1000) # MBq/kg"
   ]
  },
  {
   "cell_type": "code",
   "execution_count": 2,
   "metadata": {},
   "outputs": [
    {
     "data": {
      "text/plain": [
       "20.0"
      ]
     },
     "execution_count": 2,
     "metadata": {},
     "output_type": "execute_result"
    }
   ],
   "source": [
    "0.02 * 1000"
   ]
  },
  {
   "cell_type": "code",
   "execution_count": 3,
   "metadata": {},
   "outputs": [
    {
     "data": {
      "text/plain": [
       "29600.0"
      ]
     },
     "execution_count": 3,
     "metadata": {},
     "output_type": "execute_result"
    }
   ],
   "source": [
    "0.8 * 37000"
   ]
  },
  {
   "cell_type": "code",
   "execution_count": null,
   "metadata": {},
   "outputs": [],
   "source": []
  }
 ],
 "metadata": {
  "kernelspec": {
   "display_name": "Python 3",
   "language": "python",
   "name": "python3"
  },
  "language_info": {
   "codemirror_mode": {
    "name": "ipython",
    "version": 3
   },
   "file_extension": ".py",
   "mimetype": "text/x-python",
   "name": "python",
   "nbconvert_exporter": "python",
   "pygments_lexer": "ipython3",
   "version": "3.7.3"
  }
 },
 "nbformat": 4,
 "nbformat_minor": 4
}
