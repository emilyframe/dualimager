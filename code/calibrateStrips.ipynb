{
 "cells": [
  {
   "cell_type": "code",
   "execution_count": 1,
   "metadata": {},
   "outputs": [],
   "source": [
    "import numpy as np"
   ]
  },
  {
   "cell_type": "code",
   "execution_count": null,
   "metadata": {},
   "outputs": [],
   "source": [
    "# Loading Source Data and Calibration File\n",
    "fcs = tables.open_file( '/Users/eframe/Downloads/cs.h5', 'r' )\n",
    "fco = tables.open_file( '/Users/eframe/Downloads/co.h5', 'r' )\n",
    "detector = f.root.EventData.read()[ 'detector' ]\n",
    "energy = f.root.EventData.read()[ 'ADC_value' ]"
   ]
  },
  {
   "cell_type": "code",
   "execution_count": null,
   "metadata": {},
   "outputs": [],
   "source": [
    "# Finding Peaks of Gamma-ray Lines for Calibration\n",
    "Co, Cs = [ ], [ ]\n",
    "for s in np.arange( 0, 152 ):\n",
    "    mask = ( detector == s )\n",
    "    hist, be = np.histogram( energy[mask], bins = 1500, range = ( 10, 1500 ) )\n",
    "    bins = calib.bin_centers( be )\n",
    "    maskCo = ( bins > 100 ) & ( bins < 140 )\n",
    "    maskCs = ( bins > 640 ) & ( bins < 690 )\n",
    "    \n",
    "    poptCo, pcovCo = calib.curvefit( bins[ maskCo ], hist[ maskCo ] )\n",
    "    poptCs, pcovCs = calib.curvefit( bins[ maskCs ], hist[ maskCs ] )\n",
    "    \n",
    "    Comax = np.argmax( hist[ maskCo ] )\n",
    "    Csmax = np.argmax( hist[ maskCs ] )\n",
    "    \n",
    "    Co.append( [ s, bins[ maskCo ][Comax] ] )\n",
    "    Cs.append( [ s, bins[ maskCs ][Csmax] ] )  "
   ]
  },
  {
   "cell_type": "code",
   "execution_count": null,
   "metadata": {},
   "outputs": [],
   "source": [
    "# Linear Fit of Peak Data incorporating Old Calib File\n",
    "peaks = np.array( [  np.array( Co )[ :, 1 ], np.array( Cs )[ :, 1 ] ] ).T\n",
    "E = [ 122, 662 ]\n",
    "newcalib = []\n",
    "for i in np.arange( 0, 152 ):\n",
    "    if np.sum( peaks[ i ] ) > 0:\n",
    "        p = np.polyfit( peaks[ i ], E, 1 )\n",
    "        newcalib.append( [ b, m ] )\n",
    "    else:\n",
    "        newcalib.append( [ 0.000000000000000000e+00, 0.000000000000000000e+00 ] )\n",
    "np.savetxt( '/Users/eframe/Downloads/CCI2_Calibration_9-23-21.txt', np.array( newcalib ), delimiter=' ' )"
   ]
  },
  {
   "cell_type": "code",
   "execution_count": null,
   "metadata": {},
   "outputs": [],
   "source": [
    "# Build Calibration File to Read out ADC Values\n",
    "newcalib = []\n",
    "for i in np.arange( 0, 152 ):\n",
    "    newcalib.append( [ 0.000000000000000000e+00, 1.000000000000000000e+00 ] )\n",
    "np.savetxt( '/Users/eframe/Downloads/CCI2_ADC_Readout.txt', np.array( newcalib ), delimiter=' ' )"
   ]
  }
 ],
 "metadata": {
  "kernelspec": {
   "display_name": "Python 3",
   "language": "python",
   "name": "python3"
  },
  "language_info": {
   "codemirror_mode": {
    "name": "ipython",
    "version": 3
   },
   "file_extension": ".py",
   "mimetype": "text/x-python",
   "name": "python",
   "nbconvert_exporter": "python",
   "pygments_lexer": "ipython3",
   "version": "3.7.3"
  }
 },
 "nbformat": 4,
 "nbformat_minor": 4
}
