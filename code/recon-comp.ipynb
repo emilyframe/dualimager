{
 "cells": [
  {
   "cell_type": "code",
   "execution_count": null,
   "metadata": {},
   "outputs": [],
   "source": [
    "# Importing Libraries\n",
    "import tables\n",
    "import matplotlib.pyplot as plt\n",
    "import numpy as np\n",
    "import sys\n",
    "sys.path.append('/Users/eframe/dmi/src')\n",
    "import compton \n",
    "import codedAperture as ca\n",
    "import eventAnalysis as ea\n",
    "import calibrate as calib\n",
    "import matplotlib.ticker as ticker\n",
    "import pandas as pd\n",
    "from scipy.optimize import curve_fit\n",
    "from scipy.special import xlogy, erf\n",
    "import math as m"
   ]
  },
  {
   "cell_type": "code",
   "execution_count": null,
   "metadata": {},
   "outputs": [],
   "source": [
    "# Inputs for Compton image reconstruction\n",
    "E, sigma = 440, 2\n",
    "mu_low, mu_high = -0.4, 1\n",
    "lever_thres = 14\n",
    "poses = np.array( [ 0, 315, 270, 225, 180, 135, 90, 45 ] ) * np.pi / 180\n",
    "inputs = np.array( [ '/Users/eframe/Downloads/ac2pt_top_COMP.h5'] )\n",
    "binSize = 2\n",
    "sourceX, sourceY, sourceZ = np.mgrid[ -29:31:binSize, -29:31:binSize, -29:31:binSize ]\n",
    "sourcePixels = np.array( [ sourceX.flatten(), sourceY.flatten(), sourceZ.flatten() ] ).T"
   ]
  },
  {
   "cell_type": "code",
   "execution_count": null,
   "metadata": {},
   "outputs": [],
   "source": [
    "# Getting Compton cones from detector data for each pose\n",
    "interPos, coneDir, coneMu = [], [], []\n",
    "for i in np.arange( len( inputs ) ):\n",
    "    f = tables.open_file( inputs[ i ], 'r' )\n",
    "    time = f.root.EventData.read()['timestamp']\n",
    "    duration = ( time[-1] * 10 ** -8 - time[0] * 10 ** -8 ) / 60\n",
    "    print('minutes:', duration)\n",
    "    d = f.root.Interactions.Double.read()\n",
    "    d['x'] = d['x'] - 38 \n",
    "    d['y'] = d['y'] - 38  \n",
    "    l22 = d.reshape( int ( len ( d ) / 2 ), 2 ) \n",
    "\n",
    "    # Getting Cone Data\n",
    "    emask = ( l22['energy'].sum( axis = 1 ) >= E - sigma ) & ( l22['energy'].sum( axis = 1 ) <= E + sigma )   \n",
    "    events_old = l22[emask]\n",
    "    events = compton.correct_depth( events_old )\n",
    "    events['z'] = -events['z']\n",
    "    \n",
    "    iP, iP2, cD, cM = compton.convertToConeData( events, E, lever_thres )\n",
    "    \n",
    "    # Sequencing Interactions\n",
    "    energy1 = np.array( [ events['energy' ][ :, 0 ], events['energy'][ :, 1 ] ] ).T\n",
    "    energy2 = np.array( [ events['energy' ][ :, 1 ], events['energy'][ :, 0 ] ] ).T\n",
    "    p1 = np.squeeze( np.array( [ events['x'][ :, 0 ], events['y'][ :, 0 ], events['z'][ :, 0 ] ] ) ).T\n",
    "    p2 = np.squeeze( np.array( [ events['x'][ :, 1 ], events['y'][ :, 1 ], events['z'][ :, 1 ] ] ) ).T\n",
    "    pos1 = np.concatenate( ( [ p1, p2 ] ) , axis = 1 ).reshape( len( p1 ), 2, 3 )\n",
    "    pos2 = np.concatenate( ( [ p2, p1 ] ) , axis = 1 ).reshape( len( p1 ), 2, 3 )\n",
    "\n",
    "    P12, P21 = compton.sequence_probability( energy1, pos1, E )\n",
    "    mask = ( P12 < P21 )\n",
    "    energy = energy1.copy()\n",
    "    energy[mask] = energy2[mask]\n",
    "    pos = pos1.copy()\n",
    "    pos[mask] = pos2[mask]\n",
    "    iP, iP2, cD, cM = compton.convertToConeData_SEQ( energy, pos, E, lever_thres )\n",
    "    \n",
    "    mask = ( cM > mu_low ) & ( cM < mu_high )\n",
    "    interPos.append( iP[mask] )\n",
    "    coneMu.append( cM[mask] )\n",
    "    coneDir.append( cD[mask] )"
   ]
  },
  {
   "cell_type": "code",
   "execution_count": null,
   "metadata": {},
   "outputs": [],
   "source": [
    "# Heatmap of interaction locations\n",
    "%matplotlib inline\n",
    "for i in np.arange( len( interPos ) ):\n",
    "    print( poses[i] )\n",
    "    pos = interPos[i]\n",
    "    plt.figure( figsize=( 6,12 ) )\n",
    "    # XY\n",
    "    plt.subplot( 311 )\n",
    "    plt.hist2d( pos[ :, 0 ], pos[ :, 1 ], bins = ( 38, 38 ) )\n",
    "    plt.colorbar()\n",
    "    plt.xlabel( \"X (mm)\" )\n",
    "    plt.ylabel( \"Y (mm)\" )\n",
    "    # XZ\n",
    "    plt.subplot( 312 )\n",
    "    plt.hist2d(pos[ :, 0 ], pos[ :, 2 ], bins = ( 38, 38 ) )\n",
    "    plt.colorbar()\n",
    "    plt.xlabel( \"X (mm)\" )\n",
    "    plt.ylabel( \"Z (mm)\" )\n",
    "    # YZ\n",
    "    plt.subplot( 313 )\n",
    "    plt.hist2d(pos[ :, 1 ], pos[ :, 2 ], bins = ( 38, 38 ) )\n",
    "    plt.colorbar()\n",
    "    plt.xlabel( \"Y (mm)\" )\n",
    "    plt.ylabel( \"Z (mm)\" )\n",
    "    # Render\n",
    "    plt.tight_layout()\n",
    "    plt.show()"
   ]
  },
  {
   "cell_type": "code",
   "execution_count": null,
   "metadata": {},
   "outputs": [],
   "source": [
    "# Defining new source image space for each pose\n",
    "center = np.array( [ 0, 0, 30] )\n",
    "sourcePixelsNew = []\n",
    "for i in np.arange( len( poses ) ):\n",
    "    ang = poses[ i ]\n",
    "    R = np.array( [  [ np.cos( ang ), 0, np.sin( ang ) ], \n",
    "                   [ 0, 1, 0 ], \n",
    "                   [ -np.sin( ang ), 0, np.cos( ang ) ] ] ).T\n",
    "    B = np.array( [ [ 1, 0, 0 ], [ 0, 1, 0 ], [ 0, 0, 1 ] ] )\n",
    "    K = np.array( np.dot( R, B ) )\n",
    "    sourcePixelsNew.append(  np.dot( sourcePixels, R ) + center ) "
   ]
  },
  {
   "cell_type": "code",
   "execution_count": null,
   "metadata": {},
   "outputs": [],
   "source": [
    "# Getting Backprojected Data\n",
    "%matplotlib inline\n",
    "backproj = []\n",
    "position1 = []\n",
    "mu1 = []\n",
    "for i in np.arange( len( interPos ) ):\n",
    "    print( poses[i] * 180 / np.pi )\n",
    "    bp = compton.coneVoxel2( sourcePixelsNew[i], interPos[i], \\\n",
    "                            coneDir[i], coneMu[i], 0.1, binSize  ) \n",
    "    v = ( bp ).sum( 1 )\n",
    "    mask2 = np.isnan( v ) | ( v < 1e-20 )\n",
    "    backproj.append( bp[~mask2] )\n",
    "    position1.append( interPos[i][~mask2] )\n",
    "    mu1.append( coneMu[i][~mask2])\n",
    "    hist, bins = np.histogram( v[~mask2], bins = 100 )\n",
    "    plt.plot( bins[ :-1 ], hist )\n",
    "    plt.show()"
   ]
  },
  {
   "cell_type": "code",
   "execution_count": null,
   "metadata": {},
   "outputs": [],
   "source": [
    "hist, bins = np.histogram( mu, bins = 100 )\n",
    "plt.plot(bins[:-1], hist)\n",
    "plt.show()"
   ]
  },
  {
   "cell_type": "code",
   "execution_count": null,
   "metadata": {},
   "outputs": [],
   "source": [
    "R2[j].shape"
   ]
  },
  {
   "cell_type": "code",
   "execution_count": null,
   "metadata": {},
   "outputs": [],
   "source": [
    "j = 201\n",
    "data = sysresponse[j] * R2[j]\n",
    "print(position[j], mu[j])\n",
    "outfile = '/Users/eframe/Downloads/bp2.h5'\n",
    "f = tables.open_file( outfile, 'w' )\n",
    "f.create_array( '/', 'image', data.flatten() )\n",
    "f.close()"
   ]
  },
  {
   "cell_type": "code",
   "execution_count": null,
   "metadata": {},
   "outputs": [],
   "source": [
    "# Fraction of Back-projected Cone in Edge Region\n",
    "det, thick = 2900, 2.5\n",
    "backproj_new = backproj.copy()\n",
    "fractions = []\n",
    "for p in np.arange( len(interPos ) ):\n",
    "    edge_region = ( sourcePixelsNew[p][:, 0] < -( det - thick ) ) |\\\n",
    "                  ( sourcePixelsNew[p][:, 0] > ( det - thick ) ) |\\\n",
    "                  ( sourcePixelsNew[p][:, 1] < -( det - thick ) ) |\\\n",
    "                  ( sourcePixelsNew[p][:, 1] > ( det - thick ) ) |\\\n",
    "                  ( sourcePixelsNew[p][:, 2] - center[2] < -( det - thick ) ) |\\\n",
    "                  ( sourcePixelsNew[p][:, 2] - center[2] > ( det - thick ) ) \n",
    "    for i in np.arange( len( backproj_new[p] ) ):\n",
    "        fraction = backproj_new[p][i][edge_region].sum() / ( backproj_new[p][i].sum() + 1e-10 )\n",
    "        fractions.append( fraction )\n",
    "        backproj_new[p][i][edge_region] = 0"
   ]
  },
  {
   "cell_type": "code",
   "execution_count": null,
   "metadata": {},
   "outputs": [],
   "source": [
    "# Histogram of Back-projected Cone Fractions in Edge Region\n",
    "hist, bins = np.histogram( fractions, bins = 10 )\n",
    "plt.plot( bins[:-1], hist )\n",
    "plt.xlabel( 'Fraction of Cone in Edge Region' )\n",
    "plt.ylabel( '# of Compton Cones' )\n",
    "plt.show()"
   ]
  },
  {
   "cell_type": "code",
   "execution_count": null,
   "metadata": {},
   "outputs": [],
   "source": [
    "# Getting Rid of Zero Values Events for Backprojected Data\n",
    "backproj_New = []\n",
    "for i in np.arange( len( interPos ) ):\n",
    "    vals = ( backproj_new[i] ).sum( 1 )\n",
    "    mask = ( vals > 0 ) \n",
    "    backproj_New.append( backproj_new[i][mask] )\n",
    "    hist, bins = np.histogram( vals[mask], bins = 100 )\n",
    "    plt.plot( bins[ :-1 ], hist )\n",
    "    plt.show()"
   ]
  },
  {
   "cell_type": "code",
   "execution_count": null,
   "metadata": {},
   "outputs": [],
   "source": [
    "# Calculating Sensitivity Map 1\n",
    "sensMap1 = []\n",
    "det = 35\n",
    "for i in np.arange( len( interPos ) ):\n",
    "    x = np.round( sourcePixelsNew[i][:,0] ).astype(int)\n",
    "    y = np.round( sourcePixelsNew[i][:,1] ).astype(int)\n",
    "    z = np.round( sourcePixelsNew[i][:,2] ).astype(int)\n",
    "    c1 = x + det\n",
    "    c2 = x - det\n",
    "    d1 = y + det\n",
    "    d2 = y - det\n",
    "    a1 = c1 / np.sqrt( c1 ** 2 + z ** 2 )\n",
    "    b1 = d1 / np.sqrt( d1 ** 2 + z ** 2 )\n",
    "    a2 = c2 / np.sqrt( c2 ** 2 + z ** 2 )\n",
    "    b2 = d2 / np.sqrt( d2 ** 2 + z ** 2 )\n",
    "    firstsum = np.arcsin( a1 * b1 ) * ( ( -1 ) ** 2 ) + np.arcsin( a1 * b2 ) * ( ( -1 ) ** 3 )\n",
    "    secondsum = np.arcsin( a2 * b1 ) * ( ( -1 ) ** 3 ) + np.arcsin( a2 * b2 ) * ( ( -1 ) ** 4 )\n",
    "    sens1 =  ( firstsum + secondsum ) / ( 4 * np.pi ) * 0.012 \n",
    "    sensMap1.append( sens1 )"
   ]
  },
  {
   "cell_type": "code",
   "execution_count": null,
   "metadata": {},
   "outputs": [],
   "source": [
    "# Calculating Sensitivity Map 2\n",
    "sensMap2 = []\n",
    "for i in np.arange( len( interPos ) ):\n",
    "    sens2 = backproj_New[i].sum(0)\n",
    "    sensMap2.append( sens2 )"
   ]
  },
  {
   "cell_type": "code",
   "execution_count": null,
   "metadata": {},
   "outputs": [],
   "source": [
    "# Sensitivity 1 Map\n",
    "%matplotlib inline\n",
    "S1 = np.array(sensMap1).sum(0)\n",
    "\n",
    "# sens_mask = ( sourcePixelsNew[0][:,2] < 0.5 ) |\\\n",
    "#             ( sourcePixelsNew[1][:,2] < 0.5 ) |\\\n",
    "#             ( sourcePixelsNew[2][:,2] < 0.5 ) |\\\n",
    "#             ( sourcePixelsNew[3][:,2] < 0.5 ) |\\\n",
    "#             ( sourcePixelsNew[4][:,2] < 0.5 ) |\\\n",
    "#             ( sourcePixelsNew[5][:,2] < 0.5 ) |\\\n",
    "#             ( sourcePixelsNew[6][:,2] < 0.5 ) |\\\n",
    "#             ( sourcePixelsNew[7][:,2] < 0.5 )\n",
    "# S1[sens_mask] = 0\n",
    "\n",
    "sens_grid = S1.reshape(sourceX.shape)\n",
    "a, b = min(S1.flatten()), max(S1.flatten())\n",
    "for i in np.arange( sourceX.shape[1] ):\n",
    "    fig, ax = plt.subplots()\n",
    "    grid = sens_grid[ :, :, i] \n",
    "    im = ax.pcolormesh( grid, cmap='jet', vmin=a, vmax=b, shading = 'gouraud' ) \n",
    "    ax.set_xlabel( 'x (mm)', fontsize = 20 )\n",
    "    ax.set_ylabel( 'z (mm)', fontsize = 20 )\n",
    "    ax.tick_params( labelsize = 20 )\n",
    "    cbar = plt.colorbar( im )\n",
    "    cbar.set_label( label = 'intensity', rotation = 270, fontsize = 15, labelpad = 20 )\n",
    "    cbar.ax.tick_params( labelsize = 20 )\n",
    "    plt.show()"
   ]
  },
  {
   "cell_type": "code",
   "execution_count": null,
   "metadata": {},
   "outputs": [],
   "source": [
    "# Sensitivity 2 Map\n",
    "%matplotlib inline\n",
    "S2 = np.array(sensMap2).sum(0)\n",
    "\n",
    "# sens_mask = ( sourcePixelsNew[0][:,2] < 0.5 ) |\\\n",
    "#             ( sourcePixelsNew[1][:,2] < 0.5 ) |\\\n",
    "#             ( sourcePixelsNew[2][:,2] < 0.5 ) |\\\n",
    "#             ( sourcePixelsNew[3][:,2] < 0.5 ) |\\\n",
    "#             ( sourcePixelsNew[4][:,2] < 0.5 ) |\\\n",
    "#             ( sourcePixelsNew[5][:,2] < 0.5 ) |\\\n",
    "#             ( sourcePixelsNew[6][:,2] < 0.5 ) |\\\n",
    "#             ( sourcePixelsNew[7][:,2] < 0.5 )\n",
    "# S1[sens_mask] = 0\n",
    "\n",
    "sens_grid = S2.reshape(sourceX.shape)\n",
    "a, b = min(S2.flatten()), max(S2.flatten())\n",
    "for i in np.arange( sourceX.shape[1] ):\n",
    "    fig, ax = plt.subplots()\n",
    "    grid = sens_grid[ :, :, i] \n",
    "    im = ax.pcolormesh( grid, cmap='jet', vmin=a, vmax=b, shading = 'gouraud' ) \n",
    "    ax.set_xlabel( 'x (mm)', fontsize = 20 )\n",
    "    ax.set_ylabel( 'z (mm)', fontsize = 20 )\n",
    "    ax.tick_params( labelsize = 20 )\n",
    "    cbar = plt.colorbar( im )\n",
    "    cbar.set_label( label = 'intensity', rotation = 270, fontsize = 15, labelpad = 20 )\n",
    "    cbar.ax.tick_params( labelsize = 20 )\n",
    "    plt.show()"
   ]
  },
  {
   "cell_type": "code",
   "execution_count": null,
   "metadata": {},
   "outputs": [],
   "source": [
    "# Histogram of Sensitivities\n",
    "hist1, bins1 = np.histogram( S1, bins = 100 )\n",
    "hist2, bins2 = np.histogram( S2, bins = 100 )\n",
    "plt.plot( bins1[:-1], hist1, 'k', label='S1')\n",
    "plt.legend()\n",
    "plt.show()\n",
    "plt.plot( bins2[:-1], hist2, 'r', label='S2')\n",
    "plt.legend()\n",
    "plt.show()"
   ]
  },
  {
   "cell_type": "code",
   "execution_count": null,
   "metadata": {},
   "outputs": [],
   "source": [
    "nIter = 5\n",
    "lamb = np.ones( len( sourcePixels ) )\n",
    "eps = 0.05\n",
    "sens = S1.copy()\n",
    "for i in np.arange( nIter ):\n",
    "    ratio = np.zeros( len( sourcePixels ) ) \n",
    "    for p in np.arange( 0, len( interPos ), 1 ):\n",
    "        print( 'iteration: %i' %i, 'pose: %i' %p )\n",
    "        sysMat = backproj_New[p]\n",
    "        projExpected = np.dot( sysMat, lamb ) \n",
    "        frac = np.divide( sysMat.T, projExpected, out = np.zeros_like( sysMat.T ), where = projExpected != 0 )\n",
    "        ratio = ratio + frac.sum(1) \n",
    "    lamb = lamb * ratio * sens / ( sens ** 2 + max( sens ) ** 2 * eps ** 2 )"
   ]
  },
  {
   "cell_type": "code",
   "execution_count": null,
   "metadata": {},
   "outputs": [],
   "source": [
    "# Compton Image Reconstruction\n",
    "%matplotlib inline\n",
    "depth = np.array( sourceZ[:,0][0] )[:] + center[2]\n",
    "xmin, xmax = sourceX[:,0][:,0][0], sourceX[:,0][:,0][-1] + 1\n",
    "ymin, ymax = sourceY[0,:][:,0][0], sourceY[0,:][:,0][-1] + 1\n",
    "X, Y = np.mgrid[  xmin:xmax:binSize, ymin:ymax:binSize ]\n",
    "\n",
    "lamb2 = lamb.copy()\n",
    "\n",
    "lamb2 = np.fliplr( lamb2.reshape(sourceX.shape)[:,:,:] )\n",
    "a, b = min(lamb2.flatten()), max(lamb2.flatten())\n",
    "for i in np.arange( len(depth) ):\n",
    "    fig, ax = plt.subplots()\n",
    "    grid = lamb2[ :, :, i] \n",
    "    im = ax.pcolormesh( X, Y, grid, cmap='jet', vmin=a, vmax=b, shading = 'gouraud' ) \n",
    "    ax.set_xlabel( 'x (mm)', fontsize = 20 )\n",
    "    ax.set_ylabel( 'z (mm)', fontsize = 20 )\n",
    "    ax.tick_params( labelsize = 20 )\n",
    "    cbar = plt.colorbar( im )\n",
    "    cbar.set_label( label = 'intensity', rotation = 270, fontsize = 15, labelpad = 20 )\n",
    "    cbar.ax.tick_params( labelsize = 20 )\n",
    "    plt.title( depth[i] )\n",
    "    plt.show()"
   ]
  },
  {
   "cell_type": "code",
   "execution_count": null,
   "metadata": {},
   "outputs": [],
   "source": [
    "num=0\n",
    "for i in np.arange( len( interPos ) ):\n",
    "    num = num + backproj_New[i].shape[0]\n",
    "num"
   ]
  },
  {
   "cell_type": "code",
   "execution_count": null,
   "metadata": {},
   "outputs": [],
   "source": [
    "lamb3 = lamb.copy() * sens * num  / np.sum( lamb.copy() * sens )\n",
    "hist, bins = np.histogram(lamb3.flatten(), bins=100, range=(0,2))\n",
    "plt.plot(bins[:-1], hist)\n",
    "plt.ylim(0, 100)\n",
    "plt.show()"
   ]
  },
  {
   "cell_type": "code",
   "execution_count": null,
   "metadata": {},
   "outputs": [],
   "source": [
    "lamb3.sum()"
   ]
  },
  {
   "cell_type": "code",
   "execution_count": null,
   "metadata": {},
   "outputs": [],
   "source": [
    "outfile = '/Users/eframe/Downloads/mouse11.3.h5'\n",
    "f = tables.open_file( outfile, 'w' )\n",
    "f.create_array( '/', 'image', lamb2.flatten() )\n",
    "f.close()"
   ]
  },
  {
   "cell_type": "code",
   "execution_count": null,
   "metadata": {},
   "outputs": [],
   "source": [
    "# Rotation axis for mouse measurement on 10.6.21: 0, 0, 38"
   ]
  },
  {
   "cell_type": "code",
   "execution_count": null,
   "metadata": {},
   "outputs": [],
   "source": [
    "# tot = 0\n",
    "# for i in np.arange( len( backproj_new ) ):\n",
    "#     num = backproj_new[i].shape[0]\n",
    "#     print(num)\n",
    "#     tot = num + tot\n",
    "# print(tot)"
   ]
  },
  {
   "cell_type": "code",
   "execution_count": null,
   "metadata": {},
   "outputs": [],
   "source": [
    "# # Loading Sensitivity Map\n",
    "# senstable = pd.read_hdf( '/Users/eframe/dmi/sensMap662keV.h5', 'vals' )\n",
    "\n",
    "# # Getting new sensitivity values for each pose\n",
    "# sensMap = np.zeros( ( len( poses ), len(sourcePixels) ) )\n",
    "# for i in np.arange( len( poses ) ):\n",
    "#     print( poses[i] * 180 / np.pi )\n",
    "#     for j in np.arange( sourcePixels.shape[0] ):\n",
    "#         x = np.round( sourcePixelsNew[i][ j, 0 ] ).astype(int)\n",
    "#         y = np.round( sourcePixelsNew[i][ j, 1 ] ).astype(int)\n",
    "#         z = np.round( sourcePixelsNew[i][ j, 2 ] ).astype(int)\n",
    "#         ix = 100 * 201 * ( 101 + x ) \n",
    "#         iy = 100 * ( 101 + y )\n",
    "#         iz = z \n",
    "        \n",
    "#         if ( iz > 0 ) & ( iz >= ( sourcePixels[:,2] + center[2] ).min() ):\n",
    "#             sensMap[i][j] = senstable[ix - ( 100 * 201 ):ix][iy - 101:iy][iz:iz+1]['sens'].values \n",
    "#         else:\n",
    "#             sensMap[i][j] = 0 "
   ]
  },
  {
   "cell_type": "code",
   "execution_count": null,
   "metadata": {},
   "outputs": [],
   "source": [
    "# # Loading Sensitivity Map\n",
    "# senstable = pd.read_hdf( '/Users/eframe/dmi/sensMap440keV.h5', 'vals' )\n",
    "\n",
    "# # Getting new sensitivity values for each pose\n",
    "# sensMap = np.zeros( ( len( poses ), len(sourcePixels) ) )\n",
    "# for i in np.arange( len( poses ) ):\n",
    "#     print( poses[i] * 180 / np.pi )\n",
    "#     for j in np.arange( sourcePixels.shape[0] ):\n",
    "#         x = np.round( sourcePixelsNew[i][ j, 0 ] ).astype(int)\n",
    "#         y = np.round( sourcePixelsNew[i][ j, 1 ] ).astype(int)\n",
    "#         z = np.round( sourcePixelsNew[i][ j, 2 ] ).astype(int)\n",
    "#         ix = 100 * 45 * ( 23 + x ) \n",
    "#         iy = 100 * ( 23 + y )\n",
    "#         iz = z \n",
    "        \n",
    "#         if ( iz > 0 ) & \\\n",
    "#         ( z >= ( sourcePixels[:,2] + center[2] ).min() ) & \\\n",
    "#         ( z <= ( sourcePixels[:,2] + center[2] ).max() ) & \\\n",
    "#         ( x >= ( sourcePixels[:,0] ).min() ) & \\\n",
    "#         ( x <= ( sourcePixels[:,0] ).max() ):\n",
    "#             sensMap[i][j] = senstable[ix - ( 100 * 45 ):ix][iy - 100:iy][iz-1:iz]['sens'].values\n",
    "#         else:\n",
    "#             sensMap[i][j] = 0 "
   ]
  },
  {
   "cell_type": "code",
   "execution_count": null,
   "metadata": {},
   "outputs": [],
   "source": [
    "# # Calculating Sensitivity Map 1\n",
    "# sensMap = []\n",
    "# det = 35\n",
    "# for i in np.arange( len( poses ) ):\n",
    "#     x = np.round( sourcePixelsNew[i][:,0] ).astype(int)\n",
    "#     y = np.round( sourcePixelsNew[i][:,1] ).astype(int)\n",
    "#     z = np.round( sourcePixelsNew[i][:,2] ).astype(int)\n",
    "#     R = np.sqrt(x**2+y**2+z**2)\n",
    "#     c1 = x + det\n",
    "#     c2 = x - det\n",
    "#     d1 = y + det\n",
    "#     d2 = y - det\n",
    "#     a1 = c1 / np.sqrt( c1 ** 2 + z ** 2 )\n",
    "#     b1 = d1 / np.sqrt( d1 ** 2 + z ** 2 )\n",
    "#     a2 = c2 / np.sqrt( c2 ** 2 + z ** 2 )\n",
    "#     b2 = d2 / np.sqrt( d2 ** 2 + z ** 2 )\n",
    "#     firstsum = np.arcsin( a1 * b1 ) * ( ( -1 ) ** 2 ) + np.arcsin( a1 * b2 ) * ( ( -1 ) ** 3 )\n",
    "#     secondsum = np.arcsin( a2 * b1 ) * ( ( -1 ) ** 3 ) + np.arcsin( a2 * b2 ) * ( ( -1 ) ** 4 )\n",
    "#     sens =  ( firstsum + secondsum ) / ( 4 * np.pi ) * 0.012 \n",
    "#     radius = np.sqrt( x ** 2 + ( z + center[2] ) ** 2 )\n",
    "#     mask = ( x < sourcePixels[:,0].min() ) | ( z < sourcePixels[:,2].min() + center[2]  ) \n",
    "#     sens[mask] = 0\n",
    "#     mask = ( x > sourcePixels[:,0].max() ) | ( z > sourcePixels[:,2].max() + center[2]  )\n",
    "#     sens[mask] = 0\n",
    "#     mask = ( z < 0 )\n",
    "#     sens[mask] = 0\n",
    "#     sensMap.append( sens )"
   ]
  },
  {
   "cell_type": "code",
   "execution_count": null,
   "metadata": {},
   "outputs": [],
   "source": [
    "#     while sumtot < int( len(backproj[i]) /  ):\n",
    "#         sumtot = np.sum( hi[i][-j:] )\n",
    "#         j = j + 1\n",
    "#     mask = ( vals[i] > bi[i][-j] ) "
   ]
  },
  {
   "cell_type": "code",
   "execution_count": null,
   "metadata": {},
   "outputs": [],
   "source": [
    "# interPos = np.concatenate((interPos[0], interPos[1]))\n",
    "# coneMu = np.concatenate((coneMu[0], coneMu[1]))\n",
    "# coneDir = np.concatenate((coneDir[0], coneDir[1]))\n",
    "# interPos = np.array([interPos])\n",
    "# coneMu = np.array([coneMu])\n",
    "# coneDir = np.array([coneDir])"
   ]
  }
 ],
 "metadata": {
  "kernelspec": {
   "display_name": "Python 3",
   "language": "python",
   "name": "python3"
  },
  "language_info": {
   "codemirror_mode": {
    "name": "ipython",
    "version": 3
   },
   "file_extension": ".py",
   "mimetype": "text/x-python",
   "name": "python",
   "nbconvert_exporter": "python",
   "pygments_lexer": "ipython3",
   "version": "3.7.3"
  }
 },
 "nbformat": 4,
 "nbformat_minor": 2
}
