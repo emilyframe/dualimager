{
 "cells": [
  {
   "cell_type": "code",
   "execution_count": 1,
   "metadata": {},
   "outputs": [],
   "source": [
    "import numpy as np\n",
    "import matplotlib\n",
    "from pyevtk.hl import gridToVTK\n",
    "import tables\n",
    "import matplotlib.pyplot as plt"
   ]
  },
  {
   "cell_type": "code",
   "execution_count": 2,
   "metadata": {},
   "outputs": [],
   "source": [
    "def save_to_vtk(data, filepath, n, binSize ):\n",
    "    \"\"\"\n",
    "    save the 3d data to a .vtk file. \n",
    "    \n",
    "    Parameters\n",
    "    ------------\n",
    "    data : 3d np.array\n",
    "        3d matrix that we want to visualize\n",
    "    filepath : str\n",
    "        where to save the vtk model, do not include vtk extension, it does automatically\n",
    "    \"\"\"\n",
    "    x = np.arange( 0, n+1, 1) * binSize\n",
    "    y = np.arange( 0, n+1, 1) * binSize\n",
    "    z = np.arange( 0, n+1, 1) * binSize\n",
    "    gridToVTK(filepath, x, y, z, cellData={'data':data.copy()})"
   ]
  },
  {
   "cell_type": "code",
   "execution_count": 3,
   "metadata": {},
   "outputs": [
    {
     "name": "stdout",
     "output_type": "stream",
     "text": [
      "(51, 33, 51) (59, 41, 59) (41, 41, 41)\n"
     ]
    }
   ],
   "source": [
    "# Factors for Quantification Factor\n",
    "h5_file = '/Users/eframe/dmi/reconstructions/phantom_comp/phantom_comp.h5'\n",
    "outfile = '/Users/eframe/dmi/reconstructions/phantom_comp/phantom_comp'\n",
    "f = tables.open_file(h5_file, 'r')\n",
    "recon_data = f.root.image.read() \n",
    "f.close()\n",
    "\n",
    "# Size of Image Reconstruction Space\n",
    "binsize = 1\n",
    "sourceX, sourceY, sourceZ = np.mgrid[ -25:26:binsize, -16:17:binsize, -25:26:binsize ] \n",
    "\n",
    "# Reshaping Image Reconstruction into Volume of Image Space\n",
    "data = recon_data.reshape( sourceX.shape ) \n",
    "\n",
    "# Paraview nees a cubic data array of equal dimensions in X, Y, and Z. \n",
    "# If the image reconstruction space is not cubic, then pad the dimensions with zeros and re-slice to get a cube\n",
    "\n",
    "data2 = np.pad(data, 4)\n",
    "data3 = data2[8:-10,:,9:-9]\n",
    "data3 = np.fliplr( data3 )\n",
    "print( data.shape, data2.shape, data3.shape )"
   ]
  },
  {
   "cell_type": "code",
   "execution_count": 4,
   "metadata": {},
   "outputs": [],
   "source": [
    "save_to_vtk( data3, outfile, data3.shape[2], binsize)"
   ]
  },
  {
   "cell_type": "code",
   "execution_count": null,
   "metadata": {},
   "outputs": [],
   "source": []
  }
 ],
 "metadata": {
  "kernelspec": {
   "display_name": "Python 3",
   "language": "python",
   "name": "python3"
  },
  "language_info": {
   "codemirror_mode": {
    "name": "ipython",
    "version": 3
   },
   "file_extension": ".py",
   "mimetype": "text/x-python",
   "name": "python",
   "nbconvert_exporter": "python",
   "pygments_lexer": "ipython3",
   "version": "3.7.3"
  }
 },
 "nbformat": 4,
 "nbformat_minor": 4
}
