{
 "cells": [
  {
   "cell_type": "code",
   "execution_count": 1,
   "metadata": {},
   "outputs": [],
   "source": [
    "import numpy as np\n",
    "import tables\n",
    "import matplotlib.pyplot as plt\n",
    "import sys\n",
    "sys.path.append('/Users/eframe/dmi/src')\n",
    "import calibrate as calib\n",
    "import eventAnalysis as ea\n",
    "import compton\n",
    "import sys\n",
    "import pandas as pd\n",
    "import more_itertools as mit"
   ]
  },
  {
   "cell_type": "code",
   "execution_count": 2,
   "metadata": {},
   "outputs": [],
   "source": [
    "def subtract_baseline(rdata, sample_window=15):\n",
    "    \"\"\" Usage: subtract_baseline(rdata, sample_window=30) return rdata with the\n",
    "    mean of the first sample_window samples having been subtracted from the\n",
    "    entire signal\n",
    "    \"\"\"\n",
    "    return rdata - rdata[:, 0:sample_window].mean(axis=1)[:, np.newaxis]"
   ]
  },
  {
   "cell_type": "code",
   "execution_count": 3,
   "metadata": {},
   "outputs": [],
   "source": [
    "def search_t50(signal):\n",
    "    \"\"\" Returns the t50 value of a raw signal\n",
    "    \"\"\"\n",
    "    tMin = np.argmax(signal)\n",
    "    sigMax = np.mean( signal[tMin:] )\n",
    "\n",
    "    # Loop over signal to find t50 point\n",
    "    t = 0\n",
    "    t50_region_end = len(signal);\n",
    "    while t < t50_region_end:\n",
    "        if signal[t] > ( sigMax / 2 ):\n",
    "            break\n",
    "        t = t + 1\n",
    "\n",
    "    #  Calculate t50 with linear interp\n",
    "    t2 = t\n",
    "    t1 = t2 - 1\n",
    "    s2 = signal[t2]\n",
    "    s1 = signal[t1]\n",
    "    t50 = ( ( t2 - t1 ) / ( s2 - s1) ) * ( sigMax / 2 - s1 ) + t1\n",
    "\n",
    "    return t50"
   ]
  },
  {
   "cell_type": "code",
   "execution_count": 4,
   "metadata": {},
   "outputs": [],
   "source": [
    "def lump_edata(edata, twindow=30):\n",
    "    \"\"\" Finding lower and upper indices of events that lie within the specified time window\n",
    "    \"\"\"\n",
    "    t = np.diff( edata['timestamp'] )\n",
    "    tmask = ( t > 25 )\n",
    "    T = np.ma.masked_array( t, tmask ).filled( 0 )\n",
    "    i2 = np.where( T == 0 )[0] + 1\n",
    "    i1 = np.insert( i2[ :-1 ], 0, 0 )  \n",
    "\n",
    "    return i1, i2"
   ]
  },
  {
   "cell_type": "code",
   "execution_count": 5,
   "metadata": {},
   "outputs": [],
   "source": [
    "def is_single(event):\n",
    "    \"\"\" Determines whether an event is a singles event in the first detector. Allows for charge sharing.\n",
    "    \"\"\"\n",
    "    mask = event['trigger'] == 1\n",
    "    fired = event[mask]\n",
    "\n",
    "    d1 = ea.inge1(fired)\n",
    "    d1_AC = ea.onAC(d1)\n",
    "    d1_DC = ea.onDC(d1)\n",
    "\n",
    "    lensAC = len(d1_AC)\n",
    "    lensDC = len(d1_DC)\n",
    "\n",
    "    e1_AC = np.sum( d1_AC['ADC_value'] )\n",
    "    e1_DC = np.sum( d1_DC['ADC_value'] )\n",
    "\n",
    "    if ( lensAC == 1 ) and ( lensDC  == 1 ):\n",
    "        match = ea.checkForEnergyMatch( e1_AC, e1_DC, sigma = 2 )\n",
    "        if np.sum(match) == 1:\n",
    "            return True\n",
    "        else: return False\n",
    "    else:\n",
    "        return False"
   ]
  },
  {
   "cell_type": "code",
   "execution_count": 8,
   "metadata": {},
   "outputs": [],
   "source": [
    "# Time-correlating event data\n",
    "file = '/Users/eframe/dissertation/data/cs137_raw.h5'\n",
    "f = tables.open_file( file, 'r' )\n",
    "edata = f.root.EventData.read().view( np.recarray )\n",
    "edata.rid = np.arange( len( edata ) )\n",
    "edata = np.sort( edata, order='timestamp' )\n",
    "i1, i2 = lump_edata( edata, twindow=25 )"
   ]
  },
  {
   "cell_type": "code",
   "execution_count": 9,
   "metadata": {},
   "outputs": [],
   "source": [
    "# Subtracting baseline from raw data\n",
    "rdata = f.root.RawData.read().view( np.recarray )\n",
    "rdata2 = subtract_baseline( rdata )"
   ]
  },
  {
   "cell_type": "code",
   "execution_count": 11,
   "metadata": {},
   "outputs": [],
   "source": [
    "single = []\n",
    "for i in np.arange( 0, 200 ):\n",
    "    event = edata[i1[i]:i2[i]]\n",
    "    if is_single( event ) :\n",
    "        single.append(event)"
   ]
  },
  {
   "cell_type": "code",
   "execution_count": 12,
   "metadata": {},
   "outputs": [],
   "source": [
    "pos = []\n",
    "for i in np.arange(len(single) ): \n",
    "    event = single[i]\n",
    "    iterable = np.sort(event, order='detector')\n",
    "    strips = [list(group) for group in mit.consecutive_groups(iterable.detector)]\n",
    "    \n",
    "    # Getting indices of sorted strips ##\n",
    "    yindex = strips[0] - strips[0][0] \n",
    "    xindex = strips[1] - strips[1][0] + yindex[-1] + 1 \n",
    "    \n",
    "    masktrigy = iterable[yindex].trigger == 1\n",
    "    masktrigx = iterable[xindex].trigger == 1\n",
    "    \n",
    "    ystrip = np.sort( iterable[yindex], order='ADC_value' ).detector\n",
    "    ypos = ( ystrip[-1] - 38 * 0 ) * 2 - 1 \n",
    "     \n",
    "    xstrip = np.sort( iterable[xindex], order='ADC_value' ).detector\n",
    "    xpos = ( xstrip[-1] - 38 * 2 ) * 2 - 1 \n",
    "       \n",
    "    # Getting interpolated z-coordinate\n",
    "    esort = np.sort( event, order='ADC_value' )\n",
    "    detsort = np.sort( esort[-2:], order='detector' )\n",
    "    E = max( esort.ADC_value )\n",
    "    \n",
    "    trigsort = np.sort( np.sort( event, order='trigger' )[-2:], order = 'detector' )\n",
    "    rid1 = trigsort['rid'][0]\n",
    "    rid2 = trigsort['rid'][1]\n",
    "    raw1 = rdata2[rid1]\n",
    "    raw2 = rdata2[rid2]\n",
    "    \n",
    "    t501 = search_t50(raw1)\n",
    "    t502 = search_t50(raw2)\n",
    "    \n",
    "    dt50 = t502 - t501\n",
    "    dt = int( detsort.timestamp[-1] ) - int( detsort.timestamp[0] )\n",
    "    dt50_new = dt + dt50\n",
    "    zpos = dt50_new * 0.3215503 + 7.9596899\n",
    "    \n",
    "    ystrip = np.sort(iterable[yindex], order='ADC_value').detector\n",
    "    yold = ( ystrip[-1] - 38*0 ) * 2 - 1 \n",
    "     \n",
    "    xstrip = np.sort(iterable[xindex], order='ADC_value').detector\n",
    "    xold = ( xstrip[-1] - 38*2 ) * 2 - 1 \n",
    "             \n",
    "    pos.append([ E, xpos, ypos, zpos, dt, dt50 ] )"
   ]
  },
  {
   "cell_type": "code",
   "execution_count": 13,
   "metadata": {},
   "outputs": [
    {
     "data": {
      "text/plain": [
       "array([( 56.78905 , 69., 29.,  0.8855834 , -22.,  0.        ,  6.303787  , 1, False),\n",
       "       (139.4592  ,  5., 47., -0.03346825, -24., -0.8581886 ,  0.28779602, 1,  True),\n",
       "       (180.63846 , 67., 61.,  1.6393957 , -18., -1.655693  ,  0.20211792, 1,  True),\n",
       "       (262.92093 , 31., 55.,  2.4688945 , -14., -3.0760078 ,  2.1054382 , 1,  True),\n",
       "       (233.22505 , 35., 39.,  0.5020571 , -21., -2.1927414 ,  4.0598907 , 1,  True),\n",
       "       (168.08696 , 19., 15.,  9.073249  ,   4., -0.5369072 ,  8.946686  , 1,  True),\n",
       "       (159.92213 , 31.,  9.,  5.8910103 ,  -6., -0.43345642,  6.0513153 , 1,  True),\n",
       "       (228.63524 , 39., 13.,  4.904349  ,  -8., -1.5019073 ,  0.05288696, 1,  True),\n",
       "       (120.99294 ,  9.,  9.,  9.07346   ,   3.,  0.46374893,  3.7119904 , 1,  True),\n",
       "       (214.79497 , 45., 67., 11.920489  ,  11.,  1.3178215 ,  3.441452  , 1,  True),\n",
       "       (226.86273 , 31., 25.,  8.187056  ,   1., -0.2929077 ,  0.4406433 , 1,  True),\n",
       "       (420.6143  , 13., 15.,  0.5747366 , -17., -5.966713  , 13.327118  , 1,  True),\n",
       "       (122.85857 , 53., 47.,  4.899094  , -10.,  0.4817505 , 15.914818  , 1,  True),\n",
       "       ( 79.052315, 67., 65.,  4.881173  ,  -9., -0.57398224,  1.8685913 , 1,  True),\n",
       "       ( 67.49812 , 65., 21.,  0.6551423 , -22., -0.71665573,  1.8145523 , 1,  True),\n",
       "       (161.37897 , 67., 51.,  6.0926623 ,  -5., -0.80633163,  3.3849335 , 1,  True),\n",
       "       (468.1094  , 57., 11.,  4.3913946 ,  -7., -4.0971603 ,  1.4463806 , 1,  True),\n",
       "       (100.39099 , 31., 33.,  0.3092413 , -22., -1.7923851 ,  6.8684006 , 1,  True),\n",
       "       (191.95706 , 13., 63.,  0.4634614 , -21., -2.3127708 , 25.989029  , 1,  True),\n",
       "       (559.28107 , 45., 39.,  3.8911028 ,  -6., -6.653034  ,  1.2451172 , 1,  True),\n",
       "       ( 70.89931 , 17., 25.,  1.1982074 , -20., -1.0277596 ,  0.29898834, 1,  True),\n",
       "       (312.47592 , 15., 69., 13.125927  ,  13.,  3.0666504 ,  3.2288208 , 1,  True),\n",
       "       (471.18027 , 31., 39.,  8.979994  ,   4., -0.8269234 ,  1.1535339 , 1,  True),\n",
       "       (508.39145 , 35., 29., 11.903509  ,   8.,  4.2650146 ,  3.229828  , 1,  True),\n",
       "       ( 77.07747 , 23.,  9., 11.228097  ,  10.,  0.1645279 ,  9.973213  , 1,  True),\n",
       "       (104.13083 , 13., 65.,  1.6368313 , -19., -0.6636696 ,  4.260414  , 1,  True),\n",
       "       (490.39224 , 59., 11., 10.335044  ,   4.,  3.3871918 , 12.919678  , 1,  True),\n",
       "       ( 76.71947 , 29., 31.,  1.4531817 , -19., -1.2348061 ,  0.23906708, 1,  True),\n",
       "       ( 81.68073 , 31., 19., 13.105238  ,  14.,  2.0023117 ,  7.2321777 , 1,  True),\n",
       "       (174.35472 , 45., 41., 10.200449  ,   7., -0.03139114,  0.523407  , 1,  True)],\n",
       "      dtype=[('energy', '<f4'), ('x', '<f4'), ('y', '<f4'), ('z', '<f4'), ('dT', '<f4'), ('dt50', '<f4'), ('dE', '<f4'), ('det', 'u1'), ('z_ref', '?')])"
      ]
     },
     "execution_count": 13,
     "metadata": {},
     "output_type": "execute_result"
    }
   ],
   "source": [
    "l11 = f.root.Interactions.Single.read()\n",
    "mask = l11['det'] == 1\n",
    "l11[mask][:30]"
   ]
  },
  {
   "cell_type": "code",
   "execution_count": 14,
   "metadata": {},
   "outputs": [
    {
     "data": {
      "text/plain": [
       "[[56.78905, 69, 29, 0.7385080811480931, -22, -0.4573941273011002],\n",
       " [139.4592, 5, 47, -0.03329498614558002, -24, -0.8576502218955468],\n",
       " [180.63846, 67, 61, 1.6417267098142396, -18, -1.6484443963689657],\n",
       " [262.92093, 31, 55, 2.4829758269222877, -14, -3.0322157157922476],\n",
       " [168.08696, 19, 15, 9.089228724286516, 4, -0.48720954610673317],\n",
       " [0.9284982, 1, 15, 20.85930041858603, 1, 39.116928886665725],\n",
       " [120.99294, 9, 9, 9.164713928222117, 3, 0.7475444066515138],\n",
       " [16.774776, -1, 13, 20.3993469768575, 2, 36.68650434117929],\n",
       " [62.36355, 53, 13, 6.167886220454308, -4, -1.5723900103520094]]"
      ]
     },
     "execution_count": 14,
     "metadata": {},
     "output_type": "execute_result"
    }
   ],
   "source": [
    "pos"
   ]
  },
  {
   "cell_type": "code",
   "execution_count": null,
   "metadata": {},
   "outputs": [],
   "source": []
  }
 ],
 "metadata": {
  "kernelspec": {
   "display_name": "Python 3",
   "language": "python",
   "name": "python3"
  },
  "language_info": {
   "codemirror_mode": {
    "name": "ipython",
    "version": 3
   },
   "file_extension": ".py",
   "mimetype": "text/x-python",
   "name": "python",
   "nbconvert_exporter": "python",
   "pygments_lexer": "ipython3",
   "version": "3.7.3"
  }
 },
 "nbformat": 4,
 "nbformat_minor": 4
}
